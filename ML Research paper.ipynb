{
 "cells": [
  {
   "cell_type": "code",
   "execution_count": 4,
   "id": "a863f8a3-e7c1-47d6-aa92-9e16ad8abcf5",
   "metadata": {},
   "outputs": [],
   "source": [
    "import numpy as np\n",
    "import pandas as pd\n",
    "import sklearn as sk\n",
    "import seaborn as sns\n",
    "import xgboost as xgb\n",
    "from sklearn.model_selection import train_test_split\n",
    "from sklearn.preprocessing import StandardScaler\n",
    "from matplotlib import pyplot as plt\n",
    "from sklearn.tree import DecisionTreeClassifier, export_graphviz\n",
    "from sklearn import tree\n",
    "from sklearn.metrics import accuracy_score, confusion_matrix, r2_score\n",
    "from sklearn.metrics import classification_report\n",
    "from sklearn.ensemble import AdaBoostClassifier\n",
    "from sklearn.ensemble import RandomForestClassifier\n",
    "from sklearn import svm\n",
    "from sklearn.svm import SVC\n",
    "from sklearn.naive_bayes import GaussianNB \n",
    "from sklearn.neighbors import KNeighborsClassifier\n",
    "from sklearn.ensemble import VotingClassifier\n",
    "from sklearn.preprocessing import MinMaxScaler\n",
    "from sklearn.model_selection import GridSearchCV\n",
    "from sklearn.model_selection import RandomizedSearchCV\n",
    "from sklearn.linear_model import LogisticRegression\n",
    "\n",
    "from sklearn.metrics import roc_curve\n",
    "from sklearn.metrics import roc_auc_score\n",
    "from xgboost import XGBRegressor\n",
    "from sklearn.metrics import mean_squared_error\n",
    "\n",
    "from sklearn.linear_model import LinearRegression\n",
    "\n",
    "from sklearn.model_selection import StratifiedKFold,cross_val_score\n",
    "\n",
    "from sklearn.ensemble import BaggingClassifier"
   ]
  },
  {
   "cell_type": "code",
   "execution_count": 5,
   "id": "81fd89d5-6f28-44fa-b3af-e2a72d839be8",
   "metadata": {},
   "outputs": [],
   "source": [
    "Pima_dataset = pd.read_csv(\"C:\\\\Users\\\\harsh\\\\OneDrive\\\\Desktop\\\\Sem2\\\\Machine Learning\\\\diabetes.csv.xls\")"
   ]
  },
  {
   "cell_type": "code",
   "execution_count": 3,
   "id": "50e7194e-61b7-408f-8ffd-6b5a1ff70e4b",
   "metadata": {},
   "outputs": [
    {
     "name": "stdout",
     "output_type": "stream",
     "text": [
      "Collecting xgboost\n",
      "  Using cached xgboost-2.1.1-py3-none-win_amd64.whl.metadata (2.1 kB)\n",
      "Requirement already satisfied: numpy in c:\\users\\harsh\\anaconda3\\lib\\site-packages (from xgboost) (1.26.4)\n",
      "Requirement already satisfied: scipy in c:\\users\\harsh\\anaconda3\\lib\\site-packages (from xgboost) (1.11.4)\n",
      "Using cached xgboost-2.1.1-py3-none-win_amd64.whl (124.9 MB)\n",
      "Installing collected packages: xgboost\n",
      "Successfully installed xgboost-2.1.1\n"
     ]
    }
   ],
   "source": [
    "!pip install xgboost"
   ]
  },
  {
   "cell_type": "code",
   "execution_count": 6,
   "id": "20099c30-922c-4633-9c54-143e33140f97",
   "metadata": {},
   "outputs": [
    {
     "data": {
      "text/html": [
       "<div>\n",
       "<style scoped>\n",
       "    .dataframe tbody tr th:only-of-type {\n",
       "        vertical-align: middle;\n",
       "    }\n",
       "\n",
       "    .dataframe tbody tr th {\n",
       "        vertical-align: top;\n",
       "    }\n",
       "\n",
       "    .dataframe thead th {\n",
       "        text-align: right;\n",
       "    }\n",
       "</style>\n",
       "<table border=\"1\" class=\"dataframe\">\n",
       "  <thead>\n",
       "    <tr style=\"text-align: right;\">\n",
       "      <th></th>\n",
       "      <th>Pregnancies</th>\n",
       "      <th>Glucose</th>\n",
       "      <th>BloodPressure</th>\n",
       "      <th>SkinThickness</th>\n",
       "      <th>Insulin</th>\n",
       "      <th>BMI</th>\n",
       "      <th>DiabetesPedigreeFunction</th>\n",
       "      <th>Age</th>\n",
       "      <th>Outcome</th>\n",
       "    </tr>\n",
       "  </thead>\n",
       "  <tbody>\n",
       "    <tr>\n",
       "      <th>0</th>\n",
       "      <td>6</td>\n",
       "      <td>148</td>\n",
       "      <td>72</td>\n",
       "      <td>35</td>\n",
       "      <td>0</td>\n",
       "      <td>33.6</td>\n",
       "      <td>0.627</td>\n",
       "      <td>50</td>\n",
       "      <td>1</td>\n",
       "    </tr>\n",
       "    <tr>\n",
       "      <th>1</th>\n",
       "      <td>1</td>\n",
       "      <td>85</td>\n",
       "      <td>66</td>\n",
       "      <td>29</td>\n",
       "      <td>0</td>\n",
       "      <td>26.6</td>\n",
       "      <td>0.351</td>\n",
       "      <td>31</td>\n",
       "      <td>0</td>\n",
       "    </tr>\n",
       "    <tr>\n",
       "      <th>2</th>\n",
       "      <td>8</td>\n",
       "      <td>183</td>\n",
       "      <td>64</td>\n",
       "      <td>0</td>\n",
       "      <td>0</td>\n",
       "      <td>23.3</td>\n",
       "      <td>0.672</td>\n",
       "      <td>32</td>\n",
       "      <td>1</td>\n",
       "    </tr>\n",
       "    <tr>\n",
       "      <th>3</th>\n",
       "      <td>1</td>\n",
       "      <td>89</td>\n",
       "      <td>66</td>\n",
       "      <td>23</td>\n",
       "      <td>94</td>\n",
       "      <td>28.1</td>\n",
       "      <td>0.167</td>\n",
       "      <td>21</td>\n",
       "      <td>0</td>\n",
       "    </tr>\n",
       "    <tr>\n",
       "      <th>4</th>\n",
       "      <td>0</td>\n",
       "      <td>137</td>\n",
       "      <td>40</td>\n",
       "      <td>35</td>\n",
       "      <td>168</td>\n",
       "      <td>43.1</td>\n",
       "      <td>2.288</td>\n",
       "      <td>33</td>\n",
       "      <td>1</td>\n",
       "    </tr>\n",
       "    <tr>\n",
       "      <th>5</th>\n",
       "      <td>5</td>\n",
       "      <td>116</td>\n",
       "      <td>74</td>\n",
       "      <td>0</td>\n",
       "      <td>0</td>\n",
       "      <td>25.6</td>\n",
       "      <td>0.201</td>\n",
       "      <td>30</td>\n",
       "      <td>0</td>\n",
       "    </tr>\n",
       "    <tr>\n",
       "      <th>6</th>\n",
       "      <td>3</td>\n",
       "      <td>78</td>\n",
       "      <td>50</td>\n",
       "      <td>32</td>\n",
       "      <td>88</td>\n",
       "      <td>31.0</td>\n",
       "      <td>0.248</td>\n",
       "      <td>26</td>\n",
       "      <td>1</td>\n",
       "    </tr>\n",
       "    <tr>\n",
       "      <th>7</th>\n",
       "      <td>10</td>\n",
       "      <td>115</td>\n",
       "      <td>0</td>\n",
       "      <td>0</td>\n",
       "      <td>0</td>\n",
       "      <td>35.3</td>\n",
       "      <td>0.134</td>\n",
       "      <td>29</td>\n",
       "      <td>0</td>\n",
       "    </tr>\n",
       "    <tr>\n",
       "      <th>8</th>\n",
       "      <td>2</td>\n",
       "      <td>197</td>\n",
       "      <td>70</td>\n",
       "      <td>45</td>\n",
       "      <td>543</td>\n",
       "      <td>30.5</td>\n",
       "      <td>0.158</td>\n",
       "      <td>53</td>\n",
       "      <td>1</td>\n",
       "    </tr>\n",
       "    <tr>\n",
       "      <th>9</th>\n",
       "      <td>8</td>\n",
       "      <td>125</td>\n",
       "      <td>96</td>\n",
       "      <td>0</td>\n",
       "      <td>0</td>\n",
       "      <td>0.0</td>\n",
       "      <td>0.232</td>\n",
       "      <td>54</td>\n",
       "      <td>1</td>\n",
       "    </tr>\n",
       "  </tbody>\n",
       "</table>\n",
       "</div>"
      ],
      "text/plain": [
       "   Pregnancies  Glucose  BloodPressure  SkinThickness  Insulin   BMI  \\\n",
       "0            6      148             72             35        0  33.6   \n",
       "1            1       85             66             29        0  26.6   \n",
       "2            8      183             64              0        0  23.3   \n",
       "3            1       89             66             23       94  28.1   \n",
       "4            0      137             40             35      168  43.1   \n",
       "5            5      116             74              0        0  25.6   \n",
       "6            3       78             50             32       88  31.0   \n",
       "7           10      115              0              0        0  35.3   \n",
       "8            2      197             70             45      543  30.5   \n",
       "9            8      125             96              0        0   0.0   \n",
       "\n",
       "   DiabetesPedigreeFunction  Age  Outcome  \n",
       "0                     0.627   50        1  \n",
       "1                     0.351   31        0  \n",
       "2                     0.672   32        1  \n",
       "3                     0.167   21        0  \n",
       "4                     2.288   33        1  \n",
       "5                     0.201   30        0  \n",
       "6                     0.248   26        1  \n",
       "7                     0.134   29        0  \n",
       "8                     0.158   53        1  \n",
       "9                     0.232   54        1  "
      ]
     },
     "execution_count": 6,
     "metadata": {},
     "output_type": "execute_result"
    }
   ],
   "source": [
    "Pima_dataset.head(10)"
   ]
  },
  {
   "cell_type": "code",
   "execution_count": 7,
   "id": "1e2fddc0-1253-4155-9dfd-c39dbcafee5a",
   "metadata": {},
   "outputs": [
    {
     "data": {
      "text/plain": [
       "(768, 9)"
      ]
     },
     "execution_count": 7,
     "metadata": {},
     "output_type": "execute_result"
    }
   ],
   "source": [
    "Pima_dataset.shape"
   ]
  },
  {
   "cell_type": "code",
   "execution_count": 8,
   "id": "62c5f363-96c5-4384-83ed-ed0efce8e0b6",
   "metadata": {},
   "outputs": [
    {
     "data": {
      "text/html": [
       "<div>\n",
       "<style scoped>\n",
       "    .dataframe tbody tr th:only-of-type {\n",
       "        vertical-align: middle;\n",
       "    }\n",
       "\n",
       "    .dataframe tbody tr th {\n",
       "        vertical-align: top;\n",
       "    }\n",
       "\n",
       "    .dataframe thead th {\n",
       "        text-align: right;\n",
       "    }\n",
       "</style>\n",
       "<table border=\"1\" class=\"dataframe\">\n",
       "  <thead>\n",
       "    <tr style=\"text-align: right;\">\n",
       "      <th></th>\n",
       "      <th>Pregnancies</th>\n",
       "      <th>Glucose</th>\n",
       "      <th>BloodPressure</th>\n",
       "      <th>SkinThickness</th>\n",
       "      <th>Insulin</th>\n",
       "      <th>BMI</th>\n",
       "      <th>DiabetesPedigreeFunction</th>\n",
       "      <th>Age</th>\n",
       "      <th>Outcome</th>\n",
       "    </tr>\n",
       "  </thead>\n",
       "  <tbody>\n",
       "    <tr>\n",
       "      <th>count</th>\n",
       "      <td>768.000000</td>\n",
       "      <td>768.000000</td>\n",
       "      <td>768.000000</td>\n",
       "      <td>768.000000</td>\n",
       "      <td>768.000000</td>\n",
       "      <td>768.000000</td>\n",
       "      <td>768.000000</td>\n",
       "      <td>768.000000</td>\n",
       "      <td>768.000000</td>\n",
       "    </tr>\n",
       "    <tr>\n",
       "      <th>mean</th>\n",
       "      <td>3.845052</td>\n",
       "      <td>120.894531</td>\n",
       "      <td>69.105469</td>\n",
       "      <td>20.536458</td>\n",
       "      <td>79.799479</td>\n",
       "      <td>31.992578</td>\n",
       "      <td>0.471876</td>\n",
       "      <td>33.240885</td>\n",
       "      <td>0.348958</td>\n",
       "    </tr>\n",
       "    <tr>\n",
       "      <th>std</th>\n",
       "      <td>3.369578</td>\n",
       "      <td>31.972618</td>\n",
       "      <td>19.355807</td>\n",
       "      <td>15.952218</td>\n",
       "      <td>115.244002</td>\n",
       "      <td>7.884160</td>\n",
       "      <td>0.331329</td>\n",
       "      <td>11.760232</td>\n",
       "      <td>0.476951</td>\n",
       "    </tr>\n",
       "    <tr>\n",
       "      <th>min</th>\n",
       "      <td>0.000000</td>\n",
       "      <td>0.000000</td>\n",
       "      <td>0.000000</td>\n",
       "      <td>0.000000</td>\n",
       "      <td>0.000000</td>\n",
       "      <td>0.000000</td>\n",
       "      <td>0.078000</td>\n",
       "      <td>21.000000</td>\n",
       "      <td>0.000000</td>\n",
       "    </tr>\n",
       "    <tr>\n",
       "      <th>25%</th>\n",
       "      <td>1.000000</td>\n",
       "      <td>99.000000</td>\n",
       "      <td>62.000000</td>\n",
       "      <td>0.000000</td>\n",
       "      <td>0.000000</td>\n",
       "      <td>27.300000</td>\n",
       "      <td>0.243750</td>\n",
       "      <td>24.000000</td>\n",
       "      <td>0.000000</td>\n",
       "    </tr>\n",
       "    <tr>\n",
       "      <th>50%</th>\n",
       "      <td>3.000000</td>\n",
       "      <td>117.000000</td>\n",
       "      <td>72.000000</td>\n",
       "      <td>23.000000</td>\n",
       "      <td>30.500000</td>\n",
       "      <td>32.000000</td>\n",
       "      <td>0.372500</td>\n",
       "      <td>29.000000</td>\n",
       "      <td>0.000000</td>\n",
       "    </tr>\n",
       "    <tr>\n",
       "      <th>75%</th>\n",
       "      <td>6.000000</td>\n",
       "      <td>140.250000</td>\n",
       "      <td>80.000000</td>\n",
       "      <td>32.000000</td>\n",
       "      <td>127.250000</td>\n",
       "      <td>36.600000</td>\n",
       "      <td>0.626250</td>\n",
       "      <td>41.000000</td>\n",
       "      <td>1.000000</td>\n",
       "    </tr>\n",
       "    <tr>\n",
       "      <th>max</th>\n",
       "      <td>17.000000</td>\n",
       "      <td>199.000000</td>\n",
       "      <td>122.000000</td>\n",
       "      <td>99.000000</td>\n",
       "      <td>846.000000</td>\n",
       "      <td>67.100000</td>\n",
       "      <td>2.420000</td>\n",
       "      <td>81.000000</td>\n",
       "      <td>1.000000</td>\n",
       "    </tr>\n",
       "  </tbody>\n",
       "</table>\n",
       "</div>"
      ],
      "text/plain": [
       "       Pregnancies     Glucose  BloodPressure  SkinThickness     Insulin  \\\n",
       "count   768.000000  768.000000     768.000000     768.000000  768.000000   \n",
       "mean      3.845052  120.894531      69.105469      20.536458   79.799479   \n",
       "std       3.369578   31.972618      19.355807      15.952218  115.244002   \n",
       "min       0.000000    0.000000       0.000000       0.000000    0.000000   \n",
       "25%       1.000000   99.000000      62.000000       0.000000    0.000000   \n",
       "50%       3.000000  117.000000      72.000000      23.000000   30.500000   \n",
       "75%       6.000000  140.250000      80.000000      32.000000  127.250000   \n",
       "max      17.000000  199.000000     122.000000      99.000000  846.000000   \n",
       "\n",
       "              BMI  DiabetesPedigreeFunction         Age     Outcome  \n",
       "count  768.000000                768.000000  768.000000  768.000000  \n",
       "mean    31.992578                  0.471876   33.240885    0.348958  \n",
       "std      7.884160                  0.331329   11.760232    0.476951  \n",
       "min      0.000000                  0.078000   21.000000    0.000000  \n",
       "25%     27.300000                  0.243750   24.000000    0.000000  \n",
       "50%     32.000000                  0.372500   29.000000    0.000000  \n",
       "75%     36.600000                  0.626250   41.000000    1.000000  \n",
       "max     67.100000                  2.420000   81.000000    1.000000  "
      ]
     },
     "execution_count": 8,
     "metadata": {},
     "output_type": "execute_result"
    }
   ],
   "source": [
    "Pima_dataset.describe()"
   ]
  },
  {
   "cell_type": "code",
   "execution_count": 9,
   "id": "441b26c5-b48e-474c-ac7e-d96b822f4a33",
   "metadata": {},
   "outputs": [
    {
     "data": {
      "text/plain": [
       "Pregnancies                 0\n",
       "Glucose                     0\n",
       "BloodPressure               0\n",
       "SkinThickness               0\n",
       "Insulin                     0\n",
       "BMI                         0\n",
       "DiabetesPedigreeFunction    0\n",
       "Age                         0\n",
       "Outcome                     0\n",
       "dtype: int64"
      ]
     },
     "execution_count": 9,
     "metadata": {},
     "output_type": "execute_result"
    }
   ],
   "source": [
    "Pima_dataset.isna().sum()"
   ]
  },
  {
   "cell_type": "code",
   "execution_count": 10,
   "id": "777eaa0c-45a5-47c0-968b-20c807ba2aef",
   "metadata": {},
   "outputs": [],
   "source": [
    "from sklearn.impute import SimpleImputer\n",
    "imputer = SimpleImputer(strategy='mean', missing_values=0)\n",
    "imputer = imputer.fit(Pima_dataset[['Glucose','BloodPressure','SkinThickness','Insulin','BMI']])\n",
    "Pima_dataset[['Glucose','BloodPressure','SkinThickness','Insulin','BMI']] = imputer.transform(Pima_dataset[['Glucose','BloodPressure','SkinThickness','Insulin','BMI']])\n"
   ]
  },
  {
   "cell_type": "code",
   "execution_count": 11,
   "id": "f881e9a3-feab-4cb4-be30-83c686edab84",
   "metadata": {},
   "outputs": [
    {
     "name": "stdout",
     "output_type": "stream",
     "text": [
      "number of rows with glucose value 0 is: 0\n",
      "number of rows with missing BloodPressure 0 is: 0\n",
      "number of rows with missing skin thikness 0 is: 0\n",
      "number of rows with Insulin 0 is: 0\n",
      "number of rows with BMI 0 is: 0\n",
      "number of rows with DiabetesPedigreeFunction 0 is: 0\n",
      "number of rows with age 0 is: 0\n"
     ]
    }
   ],
   "source": [
    "print(\"number of rows with glucose value 0 is: {0}\".format(len(Pima_dataset.loc[Pima_dataset['Glucose'] == 0])))\n",
    "print(\"number of rows with missing BloodPressure 0 is: {0}\".format(len(Pima_dataset.loc[Pima_dataset['BloodPressure'] == 0])))\n",
    "print(\"number of rows with missing skin thikness 0 is: {0}\".format(len(Pima_dataset.loc[Pima_dataset['SkinThickness'] == 0])))\n",
    "print(\"number of rows with Insulin 0 is: {0}\".format(len(Pima_dataset.loc[Pima_dataset['Insulin'] == 0])))\n",
    "print(\"number of rows with BMI 0 is: {0}\".format(len(Pima_dataset.loc[Pima_dataset['BMI'] == 0])))\n",
    "print(\"number of rows with DiabetesPedigreeFunction 0 is: {0}\".format(len(Pima_dataset.loc[Pima_dataset['DiabetesPedigreeFunction'] == 0])))\n",
    "print(\"number of rows with age 0 is: {0}\".format(len(Pima_dataset.loc[Pima_dataset['Age'] == 0])))\n"
   ]
  },
  {
   "cell_type": "code",
   "execution_count": 12,
   "id": "98df7dcb-733a-48fa-8050-2b91b5d340c6",
   "metadata": {},
   "outputs": [
    {
     "data": {
      "image/png": "[encoded data removed]",
      "text/plain": [
       "<Figure size 1000x500 with 2 Axes>"
      ]
     },
     "metadata": {},
     "output_type": "display_data"
    }
   ],
   "source": [
    "# outcome\n",
    "f, ax = plt.subplots(1, 2, figsize=(10, 5))\n",
    "\n",
    "Pima_dataset['Outcome'].value_counts().plot.pie(\n",
    "    explode=[0, 0.1],\n",
    "    autopct='%1.1f%%',\n",
    "    ax=ax[0],\n",
    "    shadow=True\n",
    ")\n",
    "ax[0].set_title('Outcome')\n",
    "ax[0].set_ylabel('')\n",
    "\n",
    "sns.countplot(x='Outcome', data=Pima_dataset, ax=ax[1])  # Corrected: x='Outcome'\n",
    "ax[1].set_title('Outcome')\n",
    "\n",
    "N, P = Pima_dataset['Outcome'].value_counts()\n",
    "\n",
    "plt.grid()\n",
    "plt.show()\n"
   ]
  },
  {
   "cell_type": "code",
   "execution_count": 13,
   "id": "ad9ab414-726e-4803-a9d2-b50161ef0c3d",
   "metadata": {},
   "outputs": [
    {
     "data": {
      "text/plain": [
       "Outcome\n",
       "0    500\n",
       "1    268\n",
       "Name: count, dtype: int64"
      ]
     },
     "execution_count": 13,
     "metadata": {},
     "output_type": "execute_result"
    }
   ],
   "source": [
    "Pima_dataset['Outcome'].value_counts()"
   ]
  },
  {
   "cell_type": "markdown",
   "id": "fd9adae0-0261-49c3-a0a8-3490decb6df5",
   "metadata": {},
   "source": [
    "# SPLIT THE DATA (TRAIN TEST SPLIT)"
   ]
  },
  {
   "cell_type": "code",
   "execution_count": 28,
   "id": "ccfcd304-fdf6-418d-8c06-3b4480c2de8f",
   "metadata": {},
   "outputs": [],
   "source": [
    "X = Pima_dataset.drop(columns='Outcome', axis=1)\n",
    "Y = Pima_dataset['Outcome']"
   ]
  },
  {
   "cell_type": "code",
   "execution_count": 29,
   "id": "f16ee84d-d54f-4116-bb75-6e391b6b6122",
   "metadata": {},
   "outputs": [],
   "source": [
    "X_train, X_test, y_train, y_test = train_test_split(X, Y, test_size = 0.20, random_state = 0)"
   ]
  },
  {
   "cell_type": "code",
   "execution_count": 30,
   "id": "90ad2410-9bf7-487c-ad0b-582ee0efe929",
   "metadata": {},
   "outputs": [
    {
     "data": {
      "text/plain": [
       "array([0.01555395, 0.11796705, 0.01509219, 0.01035643, 0.02548305,\n",
       "       0.07923143, 0.        , 0.04601336])"
      ]
     },
     "execution_count": 30,
     "metadata": {},
     "output_type": "execute_result"
    }
   ],
   "source": [
    "# URL: https://scikit-learn.org/stable/modules/generated/sklearn.feature_selection.mutual_info_classif.html\n",
    "# Estimate mutual information for a discrete target variable.\n",
    "# Mutual information (MI) between two random variables is a non-negative value, which measures the dependency between the variables. \n",
    "# It is equal to zero if and only if two random variables are independent, and higher values mean higher dependency.\n",
    "from sklearn.feature_selection import mutual_info_classif\n",
    "\n",
    "mutual_info = mutual_info_classif(X_train, y_train, random_state = 0)\n",
    "mutual_info\n"
   ]
  },
  {
   "cell_type": "code",
   "execution_count": 31,
   "id": "117fa698-a857-41f4-b9f6-6c07ecbc7b25",
   "metadata": {},
   "outputs": [
    {
     "data": {
      "text/plain": [
       "Glucose                     0.117967\n",
       "BMI                         0.079231\n",
       "Age                         0.046013\n",
       "Insulin                     0.025483\n",
       "Pregnancies                 0.015554\n",
       "BloodPressure               0.015092\n",
       "SkinThickness               0.010356\n",
       "DiabetesPedigreeFunction    0.000000\n",
       "dtype: float64"
      ]
     },
     "execution_count": 31,
     "metadata": {},
     "output_type": "execute_result"
    }
   ],
   "source": [
    "mutual_info = pd.Series(mutual_info)\n",
    "mutual_info.index = X_train.columns\n",
    "mutual_info.sort_values(ascending = False)"
   ]
  },
  {
   "cell_type": "code",
   "execution_count": 32,
   "id": "52b5b0a2-67e2-4ea6-a1df-e94f16561187",
   "metadata": {},
   "outputs": [
    {
     "data": {
      "image/png": "[encoded data removed]",
      "text/plain": [
       "<Figure size 2000x800 with 1 Axes>"
      ]
     },
     "metadata": {},
     "output_type": "display_data"
    }
   ],
   "source": [
    "plt.figure(figsize = (20, 8))\n",
    "mutual_info.sort_values(ascending = False).plot.bar();"
   ]
  },
  {
   "cell_type": "code",
   "execution_count": 33,
   "id": "b6887586-219b-4e6f-a810-0f7e03dd87cc",
   "metadata": {},
   "outputs": [],
   "source": [
    "#So we decided to drp the DiabetesPedigreeFunction column\n",
    "Pima_dataset.drop(columns='DiabetesPedigreeFunction',axis=1, inplace=True)"
   ]
  },
  {
   "cell_type": "code",
   "execution_count": 34,
   "id": "b837c4eb-e3cd-43a4-a513-2987f417f7ad",
   "metadata": {},
   "outputs": [
    {
     "data": {
      "text/html": [
       "<div>\n",
       "<style scoped>\n",
       "    .dataframe tbody tr th:only-of-type {\n",
       "        vertical-align: middle;\n",
       "    }\n",
       "\n",
       "    .dataframe tbody tr th {\n",
       "        vertical-align: top;\n",
       "    }\n",
       "\n",
       "    .dataframe thead th {\n",
       "        text-align: right;\n",
       "    }\n",
       "</style>\n",
       "<table border=\"1\" class=\"dataframe\">\n",
       "  <thead>\n",
       "    <tr style=\"text-align: right;\">\n",
       "      <th></th>\n",
       "      <th>Pregnancies</th>\n",
       "      <th>Glucose</th>\n",
       "      <th>BloodPressure</th>\n",
       "      <th>SkinThickness</th>\n",
       "      <th>Insulin</th>\n",
       "      <th>BMI</th>\n",
       "      <th>Age</th>\n",
       "      <th>Outcome</th>\n",
       "    </tr>\n",
       "  </thead>\n",
       "  <tbody>\n",
       "    <tr>\n",
       "      <th>0</th>\n",
       "      <td>6</td>\n",
       "      <td>148.0</td>\n",
       "      <td>72.000000</td>\n",
       "      <td>35.00000</td>\n",
       "      <td>155.548223</td>\n",
       "      <td>33.600000</td>\n",
       "      <td>50</td>\n",
       "      <td>1</td>\n",
       "    </tr>\n",
       "    <tr>\n",
       "      <th>1</th>\n",
       "      <td>1</td>\n",
       "      <td>85.0</td>\n",
       "      <td>66.000000</td>\n",
       "      <td>29.00000</td>\n",
       "      <td>155.548223</td>\n",
       "      <td>26.600000</td>\n",
       "      <td>31</td>\n",
       "      <td>0</td>\n",
       "    </tr>\n",
       "    <tr>\n",
       "      <th>2</th>\n",
       "      <td>8</td>\n",
       "      <td>183.0</td>\n",
       "      <td>64.000000</td>\n",
       "      <td>29.15342</td>\n",
       "      <td>155.548223</td>\n",
       "      <td>23.300000</td>\n",
       "      <td>32</td>\n",
       "      <td>1</td>\n",
       "    </tr>\n",
       "    <tr>\n",
       "      <th>3</th>\n",
       "      <td>1</td>\n",
       "      <td>89.0</td>\n",
       "      <td>66.000000</td>\n",
       "      <td>23.00000</td>\n",
       "      <td>94.000000</td>\n",
       "      <td>28.100000</td>\n",
       "      <td>21</td>\n",
       "      <td>0</td>\n",
       "    </tr>\n",
       "    <tr>\n",
       "      <th>4</th>\n",
       "      <td>0</td>\n",
       "      <td>137.0</td>\n",
       "      <td>40.000000</td>\n",
       "      <td>35.00000</td>\n",
       "      <td>168.000000</td>\n",
       "      <td>43.100000</td>\n",
       "      <td>33</td>\n",
       "      <td>1</td>\n",
       "    </tr>\n",
       "    <tr>\n",
       "      <th>5</th>\n",
       "      <td>5</td>\n",
       "      <td>116.0</td>\n",
       "      <td>74.000000</td>\n",
       "      <td>29.15342</td>\n",
       "      <td>155.548223</td>\n",
       "      <td>25.600000</td>\n",
       "      <td>30</td>\n",
       "      <td>0</td>\n",
       "    </tr>\n",
       "    <tr>\n",
       "      <th>6</th>\n",
       "      <td>3</td>\n",
       "      <td>78.0</td>\n",
       "      <td>50.000000</td>\n",
       "      <td>32.00000</td>\n",
       "      <td>88.000000</td>\n",
       "      <td>31.000000</td>\n",
       "      <td>26</td>\n",
       "      <td>1</td>\n",
       "    </tr>\n",
       "    <tr>\n",
       "      <th>7</th>\n",
       "      <td>10</td>\n",
       "      <td>115.0</td>\n",
       "      <td>72.405184</td>\n",
       "      <td>29.15342</td>\n",
       "      <td>155.548223</td>\n",
       "      <td>35.300000</td>\n",
       "      <td>29</td>\n",
       "      <td>0</td>\n",
       "    </tr>\n",
       "    <tr>\n",
       "      <th>8</th>\n",
       "      <td>2</td>\n",
       "      <td>197.0</td>\n",
       "      <td>70.000000</td>\n",
       "      <td>45.00000</td>\n",
       "      <td>543.000000</td>\n",
       "      <td>30.500000</td>\n",
       "      <td>53</td>\n",
       "      <td>1</td>\n",
       "    </tr>\n",
       "    <tr>\n",
       "      <th>9</th>\n",
       "      <td>8</td>\n",
       "      <td>125.0</td>\n",
       "      <td>96.000000</td>\n",
       "      <td>29.15342</td>\n",
       "      <td>155.548223</td>\n",
       "      <td>32.457464</td>\n",
       "      <td>54</td>\n",
       "      <td>1</td>\n",
       "    </tr>\n",
       "  </tbody>\n",
       "</table>\n",
       "</div>"
      ],
      "text/plain": [
       "   Pregnancies  Glucose  BloodPressure  SkinThickness     Insulin        BMI  \\\n",
       "0            6    148.0      72.000000       35.00000  155.548223  33.600000   \n",
       "1            1     85.0      66.000000       29.00000  155.548223  26.600000   \n",
       "2            8    183.0      64.000000       29.15342  155.548223  23.300000   \n",
       "3            1     89.0      66.000000       23.00000   94.000000  28.100000   \n",
       "4            0    137.0      40.000000       35.00000  168.000000  43.100000   \n",
       "5            5    116.0      74.000000       29.15342  155.548223  25.600000   \n",
       "6            3     78.0      50.000000       32.00000   88.000000  31.000000   \n",
       "7           10    115.0      72.405184       29.15342  155.548223  35.300000   \n",
       "8            2    197.0      70.000000       45.00000  543.000000  30.500000   \n",
       "9            8    125.0      96.000000       29.15342  155.548223  32.457464   \n",
       "\n",
       "   Age  Outcome  \n",
       "0   50        1  \n",
       "1   31        0  \n",
       "2   32        1  \n",
       "3   21        0  \n",
       "4   33        1  \n",
       "5   30        0  \n",
       "6   26        1  \n",
       "7   29        0  \n",
       "8   53        1  \n",
       "9   54        1  "
      ]
     },
     "execution_count": 34,
     "metadata": {},
     "output_type": "execute_result"
    }
   ],
   "source": [
    "Pima_dataset.head(10)"
   ]
  },
  {
   "cell_type": "code",
   "execution_count": 35,
   "id": "8cdeadd3-45c0-4071-a9df-1735e6c7e8b5",
   "metadata": {},
   "outputs": [
    {
     "name": "stdout",
     "output_type": "stream",
     "text": [
      "(768, 8) (614, 8) (614,) (154, 8)\n"
     ]
    }
   ],
   "source": [
    "print(X.shape, X_train.shape,y_train.shape, X_test.shape)"
   ]
  },
  {
   "cell_type": "markdown",
   "id": "6634e678-aa0c-4826-9f69-953b8ac0893f",
   "metadata": {},
   "source": [
    "# SMOTE IMPLEMENTATION"
   ]
  },
  {
   "cell_type": "code",
   "execution_count": 36,
   "id": "744bea61-01bb-4be7-bffc-eb97d7d6cdda",
   "metadata": {},
   "outputs": [
    {
     "data": {
      "text/plain": [
       "array([393, 393], dtype=int64)"
      ]
     },
     "execution_count": 36,
     "metadata": {},
     "output_type": "execute_result"
    }
   ],
   "source": [
    "from imblearn.over_sampling import SMOTE\n",
    "sm = SMOTE( sampling_strategy='minority',random_state=0)\n",
    "X_smote, y_smote = sm.fit_resample(X_train, y_train)\n",
    "\n",
    "np.bincount(y_smote)"
   ]
  },
  {
   "cell_type": "code",
   "execution_count": 37,
   "id": "b8b9a38a-e523-4730-afef-f10bbefef3bd",
   "metadata": {},
   "outputs": [
    {
     "data": {
      "text/plain": [
       "Outcome\n",
       "0    393\n",
       "1    221\n",
       "Name: count, dtype: int64"
      ]
     },
     "execution_count": 37,
     "metadata": {},
     "output_type": "execute_result"
    }
   ],
   "source": [
    "# Befor smote\n",
    "y_train.value_counts()"
   ]
  },
  {
   "cell_type": "code",
   "execution_count": 38,
   "id": "8026d384-f762-446b-a00a-2a51fa447011",
   "metadata": {},
   "outputs": [
    {
     "data": {
      "text/plain": [
       "Outcome\n",
       "1    393\n",
       "0    393\n",
       "Name: count, dtype: int64"
      ]
     },
     "execution_count": 38,
     "metadata": {},
     "output_type": "execute_result"
    }
   ],
   "source": [
    "# after smote\n",
    "y_smote.value_counts()"
   ]
  },
  {
   "cell_type": "code",
   "execution_count": 39,
   "id": "0e8e17df-d928-4f50-a139-598e7543a166",
   "metadata": {},
   "outputs": [
    {
     "data": {
      "image/png": "[encoded data removed]",
      "text/plain": [
       "<Figure size 1000x500 with 2 Axes>"
      ]
     },
     "metadata": {},
     "output_type": "display_data"
    }
   ],
   "source": [
    "# outcome before smote\n",
    "f,ax = plt.subplots(1,2, figsize=(10,5))\n",
    "y_train.value_counts().plot.pie(explode=[0,0.1],autopct='%1.1f%%', ax=ax[0],shadow=True)\n",
    "ax[0].set_title('Outcome')\n",
    "ax[0].set_ylabel('')\n",
    "plt.show()"
   ]
  },
  {
   "cell_type": "code",
   "execution_count": 40,
   "id": "5bfcd577-d75f-465e-85b7-1aa779899f30",
   "metadata": {},
   "outputs": [
    {
     "data": {
      "image/png": "[encoded data removed]",
      "text/plain": [
       "<Figure size 1000x500 with 2 Axes>"
      ]
     },
     "metadata": {},
     "output_type": "display_data"
    }
   ],
   "source": [
    "# outcome after smote\n",
    "f,ax = plt.subplots(1,2, figsize=(10,5))\n",
    "y_smote.value_counts().plot.pie(explode=[0,0.1],autopct='%1.1f%%', ax=ax[0],shadow=True)\n",
    "ax[0].set_title('Outcome')\n",
    "ax[0].set_ylabel('')\n",
    "plt.show()"
   ]
  },
  {
   "cell_type": "code",
   "execution_count": 41,
   "id": "cdc43c36-023b-4030-ba82-5de1a0a1012c",
   "metadata": {},
   "outputs": [
    {
     "data": {
      "text/plain": [
       "Outcome\n",
       "0    393\n",
       "1    221\n",
       "Name: count, dtype: int64"
      ]
     },
     "execution_count": 41,
     "metadata": {},
     "output_type": "execute_result"
    }
   ],
   "source": [
    "# Befor smote\n",
    "y_train.value_counts()"
   ]
  },
  {
   "cell_type": "code",
   "execution_count": 42,
   "id": "dca9f0cb-8c6e-4c24-842a-3024a06e178b",
   "metadata": {},
   "outputs": [
    {
     "data": {
      "text/plain": [
       "Outcome\n",
       "1    393\n",
       "0    393\n",
       "Name: count, dtype: int64"
      ]
     },
     "execution_count": 42,
     "metadata": {},
     "output_type": "execute_result"
    }
   ],
   "source": [
    "# after smote\n",
    "y_smote.value_counts()"
   ]
  },
  {
   "cell_type": "markdown",
   "id": "744a1e34-776a-4879-83b0-ecb85625efff",
   "metadata": {},
   "source": [
    "# BAGGING DECISION TREE"
   ]
  },
  {
   "cell_type": "code",
   "execution_count": 43,
   "id": "d6875887-cd55-47aa-8fec-a994216f3fda",
   "metadata": {},
   "outputs": [
    {
     "data": {
      "text/html": [
       "<style>#sk-container-id-1 {color: black;background-color: white;}#sk-container-id-1 pre{padding: 0;}#sk-container-id-1 div.sk-toggleable {background-color: white;}#sk-container-id-1 label.sk-toggleable__label {cursor: pointer;display: block;width: 100%;margin-bottom: 0;padding: 0.3em;box-sizing: border-box;text-align: center;}#sk-container-id-1 label.sk-toggleable__label-arrow:before {content: \"▸\";float: left;margin-right: 0.25em;color: #696969;}#sk-container-id-1 label.sk-toggleable__label-arrow:hover:before {color: black;}#sk-container-id-1 div.sk-estimator:hover label.sk-toggleable__label-arrow:before {color: black;}#sk-container-id-1 div.sk-toggleable__content {max-height: 0;max-width: 0;overflow: hidden;text-align: left;background-color: #f0f8ff;}#sk-container-id-1 div.sk-toggleable__content pre {margin: 0.2em;color: black;border-radius: 0.25em;background-color: #f0f8ff;}#sk-container-id-1 input.sk-toggleable__control:checked~div.sk-toggleable__content {max-height: 200px;max-width: 100%;overflow: auto;}#sk-container-id-1 input.sk-toggleable__control:checked~label.sk-toggleable__label-arrow:before {content: \"▾\";}#sk-container-id-1 div.sk-estimator input.sk-toggleable__control:checked~label.sk-toggleable__label {background-color: #d4ebff;}#sk-container-id-1 div.sk-label input.sk-toggleable__control:checked~label.sk-toggleable__label {background-color: #d4ebff;}#sk-container-id-1 input.sk-hidden--visually {border: 0;clip: rect(1px 1px 1px 1px);clip: rect(1px, 1px, 1px, 1px);height: 1px;margin: -1px;overflow: hidden;padding: 0;position: absolute;width: 1px;}#sk-container-id-1 div.sk-estimator {font-family: monospace;background-color: #f0f8ff;border: 1px dotted black;border-radius: 0.25em;box-sizing: border-box;margin-bottom: 0.5em;}#sk-container-id-1 div.sk-estimator:hover {background-color: #d4ebff;}#sk-container-id-1 div.sk-parallel-item::after {content: \"\";width: 100%;border-bottom: 1px solid gray;flex-grow: 1;}#sk-container-id-1 div.sk-label:hover label.sk-toggleable__label {background-color: #d4ebff;}#sk-container-id-1 div.sk-serial::before {content: \"\";position: absolute;border-left: 1px solid gray;box-sizing: border-box;top: 0;bottom: 0;left: 50%;z-index: 0;}#sk-container-id-1 div.sk-serial {display: flex;flex-direction: column;align-items: center;background-color: white;padding-right: 0.2em;padding-left: 0.2em;position: relative;}#sk-container-id-1 div.sk-item {position: relative;z-index: 1;}#sk-container-id-1 div.sk-parallel {display: flex;align-items: stretch;justify-content: center;background-color: white;position: relative;}#sk-container-id-1 div.sk-item::before, #sk-container-id-1 div.sk-parallel-item::before {content: \"\";position: absolute;border-left: 1px solid gray;box-sizing: border-box;top: 0;bottom: 0;left: 50%;z-index: -1;}#sk-container-id-1 div.sk-parallel-item {display: flex;flex-direction: column;z-index: 1;position: relative;background-color: white;}#sk-container-id-1 div.sk-parallel-item:first-child::after {align-self: flex-end;width: 50%;}#sk-container-id-1 div.sk-parallel-item:last-child::after {align-self: flex-start;width: 50%;}#sk-container-id-1 div.sk-parallel-item:only-child::after {width: 0;}#sk-container-id-1 div.sk-dashed-wrapped {border: 1px dashed gray;margin: 0 0.4em 0.5em 0.4em;box-sizing: border-box;padding-bottom: 0.4em;background-color: white;}#sk-container-id-1 div.sk-label label {font-family: monospace;font-weight: bold;display: inline-block;line-height: 1.2em;}#sk-container-id-1 div.sk-label-container {text-align: center;}#sk-container-id-1 div.sk-container {/* jupyter's `normalize.less` sets `[hidden] { display: none; }` but bootstrap.min.css set `[hidden] { display: none !important; }` so we also need the `!important` here to be able to override the default hidden behavior on the sphinx rendered scikit-learn.org. See: https://github.com/scikit-learn/scikit-learn/issues/21755 */display: inline-block !important;position: relative;}#sk-container-id-1 div.sk-text-repr-fallback {display: none;}</style><div id=\"sk-container-id-1\" class=\"sk-top-container\"><div class=\"sk-text-repr-fallback\"><pre>BaggingClassifier(estimator=DecisionTreeClassifier(random_state=42),\n",
       "                  max_samples=100, n_estimators=500, n_jobs=-1, oob_score=True,\n",
       "                  random_state=42)</pre><b>In a Jupyter environment, please rerun this cell to show the HTML representation or trust the notebook. <br />On GitHub, the HTML representation is unable to render, please try loading this page with nbviewer.org.</b></div><div class=\"sk-container\" hidden><div class=\"sk-item sk-dashed-wrapped\"><div class=\"sk-label-container\"><div class=\"sk-label sk-toggleable\"><input class=\"sk-toggleable__control sk-hidden--visually\" id=\"sk-estimator-id-1\" type=\"checkbox\" ><label for=\"sk-estimator-id-1\" class=\"sk-toggleable__label sk-toggleable__label-arrow\">BaggingClassifier</label><div class=\"sk-toggleable__content\"><pre>BaggingClassifier(estimator=DecisionTreeClassifier(random_state=42),\n",
       "                  max_samples=100, n_estimators=500, n_jobs=-1, oob_score=True,\n",
       "                  random_state=42)</pre></div></div></div><div class=\"sk-parallel\"><div class=\"sk-parallel-item\"><div class=\"sk-item\"><div class=\"sk-label-container\"><div class=\"sk-label sk-toggleable\"><input class=\"sk-toggleable__control sk-hidden--visually\" id=\"sk-estimator-id-2\" type=\"checkbox\" ><label for=\"sk-estimator-id-2\" class=\"sk-toggleable__label sk-toggleable__label-arrow\">estimator: DecisionTreeClassifier</label><div class=\"sk-toggleable__content\"><pre>DecisionTreeClassifier(random_state=42)</pre></div></div></div><div class=\"sk-serial\"><div class=\"sk-item\"><div class=\"sk-estimator sk-toggleable\"><input class=\"sk-toggleable__control sk-hidden--visually\" id=\"sk-estimator-id-3\" type=\"checkbox\" ><label for=\"sk-estimator-id-3\" class=\"sk-toggleable__label sk-toggleable__label-arrow\">DecisionTreeClassifier</label><div class=\"sk-toggleable__content\"><pre>DecisionTreeClassifier(random_state=42)</pre></div></div></div></div></div></div></div></div></div></div>"
      ],
      "text/plain": [
       "BaggingClassifier(estimator=DecisionTreeClassifier(random_state=42),\n",
       "                  max_samples=100, n_estimators=500, n_jobs=-1, oob_score=True,\n",
       "                  random_state=42)"
      ]
     },
     "execution_count": 43,
     "metadata": {},
     "output_type": "execute_result"
    }
   ],
   "source": [
    "bagging = BaggingClassifier(DecisionTreeClassifier(random_state=42),n_estimators=500,\n",
    "                           max_samples=100,bootstrap=True,n_jobs=-1,random_state=42,\n",
    "                           oob_score=True)\n",
    "bagging.fit(X_smote,y_smote)"
   ]
  },
  {
   "cell_type": "code",
   "execution_count": 44,
   "id": "435b6b85-6cc3-462b-9e79-c7bd467ac474",
   "metadata": {},
   "outputs": [
    {
     "name": "stdout",
     "output_type": "stream",
     "text": [
      "[[88 19]\n",
      " [ 8 39]]\n",
      "Accuracy Score 0.8246753246753247\n",
      "              precision    recall  f1-score   support\n",
      "\n",
      "           0       0.92      0.82      0.87       107\n",
      "           1       0.67      0.83      0.74        47\n",
      "\n",
      "    accuracy                           0.82       154\n",
      "   macro avg       0.79      0.83      0.80       154\n",
      "weighted avg       0.84      0.82      0.83       154\n",
      "\n"
     ]
    }
   ],
   "source": [
    "y_pred=bagging.predict(X_test)\n",
    "print(confusion_matrix(y_test,y_pred))\n",
    "print(\"Accuracy Score {}\".format(accuracy_score(y_test,y_pred)))\n",
    "print(classification_report(y_test,y_pred))"
   ]
  },
  {
   "cell_type": "markdown",
   "id": "b37e3697-c25c-4bd9-8844-8c45bdec50f1",
   "metadata": {},
   "source": [
    "K-FOLD CROSS VALIDATION"
   ]
  },
  {
   "cell_type": "code",
   "execution_count": 45,
   "id": "724bb116-82e8-44c5-98bd-44113a29fd13",
   "metadata": {},
   "outputs": [],
   "source": [
    "skfold = StratifiedKFold(n_splits=5)\n",
    "\n",
    "cv_score = cross_val_score(bagging,X,Y,cv=skfold)"
   ]
  },
  {
   "cell_type": "code",
   "execution_count": 46,
   "id": "08a78c8c-bb3c-4be4-9be1-833f95f22fa8",
   "metadata": {},
   "outputs": [
    {
     "data": {
      "text/plain": [
       "array([0.74025974, 0.71428571, 0.75974026, 0.81699346, 0.75163399])"
      ]
     },
     "execution_count": 46,
     "metadata": {},
     "output_type": "execute_result"
    }
   ],
   "source": [
    "cv_score"
   ]
  },
  {
   "cell_type": "code",
   "execution_count": 47,
   "id": "b6be2b6c-8422-4097-81fa-56edc27341e1",
   "metadata": {},
   "outputs": [
    {
     "name": "stdout",
     "output_type": "stream",
     "text": [
      "Results =  0.7565826330532213 +/- 0.03388036119387347\n"
     ]
    }
   ],
   "source": [
    "results=cv_score\n",
    "print(\"Results = \", np.mean(results),\"+/-\",np.std(results))"
   ]
  },
  {
   "cell_type": "markdown",
   "id": "918db984-1e1d-4cf5-854f-7be218b5f4d1",
   "metadata": {},
   "source": [
    "# DECISION TREE"
   ]
  },
  {
   "cell_type": "code",
   "execution_count": 48,
   "id": "e561d82e-5385-4332-88d0-66767156cf65",
   "metadata": {},
   "outputs": [
    {
     "name": "stdout",
     "output_type": "stream",
     "text": [
      "Depth =  2 , Training Accuracy =  0.7442748091603053 , Test Accuracy =  0.7402597402597403 , Diff =  0.4015068900565022  %\n",
      "Depth =  3 , Training Accuracy =  0.7620865139949109 , Test Accuracy =  0.6883116883116883 , Diff =  7.377482568322257  %\n",
      "Depth =  4 , Training Accuracy =  0.7964376590330788 , Test Accuracy =  0.7402597402597403 , Diff =  5.617791877333856  %\n",
      "Depth =  5 , Training Accuracy =  0.8193384223918575 , Test Accuracy =  0.7207792207792207 , Diff =  9.855920161263676  %\n",
      "Depth =  6 , Training Accuracy =  0.8409669211195929 , Test Accuracy =  0.7402597402597403 , Diff =  10.070718085985265  %\n",
      "Depth =  7 , Training Accuracy =  0.8727735368956743 , Test Accuracy =  0.7077922077922078 , Diff =  16.49813291034665  %\n",
      "Depth =  8 , Training Accuracy =  0.8994910941475827 , Test Accuracy =  0.7142857142857143 , Diff =  18.520537986186834  %\n",
      "Depth =  9 , Training Accuracy =  0.9223918575063613 , Test Accuracy =  0.7142857142857143 , Diff =  20.8106143220647  %\n",
      "Depth =  10 , Training Accuracy =  0.9427480916030534 , Test Accuracy =  0.6818181818181818 , Diff =  26.092990978487162  %\n",
      "Depth =  15 , Training Accuracy =  0.9961832061068703 , Test Accuracy =  0.7012987012987013 , Diff =  29.488450480816898  %\n",
      "Depth =  20 , Training Accuracy =  1.0 , Test Accuracy =  0.6818181818181818 , Diff =  31.818181818181824  %\n",
      "Depth =  25 , Training Accuracy =  1.0 , Test Accuracy =  0.7012987012987013 , Diff =  29.87012987012987  %\n",
      "Depth =  30 , Training Accuracy =  1.0 , Test Accuracy =  0.6948051948051948 , Diff =  30.519480519480524  %\n",
      "Depth =  35 , Training Accuracy =  1.0 , Test Accuracy =  0.7077922077922078 , Diff =  29.220779220779225  %\n",
      "Depth =  40 , Training Accuracy =  1.0 , Test Accuracy =  0.6688311688311688 , Diff =  33.11688311688312  %\n",
      "Depth =  45 , Training Accuracy =  1.0 , Test Accuracy =  0.6883116883116883 , Diff =  31.16883116883117  %\n",
      "Depth =  50 , Training Accuracy =  1.0 , Test Accuracy =  0.6948051948051948 , Diff =  30.519480519480524  %\n"
     ]
    },
    {
     "data": {
      "image/png": "[encoded data removed]",
      "text/plain": [
       "<Figure size 640x480 with 1 Axes>"
      ]
     },
     "metadata": {},
     "output_type": "display_data"
    }
   ],
   "source": [
    "maxdepths = [2,3,4,5,6,7,8,9,10,15,20,25,30,35,40,45,50]\n",
    "trainAcc = np.zeros(len(maxdepths))\n",
    "testAcc = np.zeros(len(maxdepths))\n",
    "\n",
    "index = 0\n",
    "for depth in maxdepths:\n",
    "    clf = tree.DecisionTreeClassifier(max_depth=depth)\n",
    "    clf = clf.fit(X_smote, y_smote)\n",
    "    y_predTrain = clf.predict(X_smote)\n",
    "    y_predTest = clf.predict(X_test)\n",
    "    trainAcc[index] = accuracy_score(y_smote, y_predTrain)\n",
    "    testAcc[index] = accuracy_score(y_test, y_predTest)\n",
    "    print(\"Depth = \", depth, \", Training Accuracy = \", trainAcc[index], \", Test Accuracy = \", testAcc[index], \n",
    "          \", Diff = \", np.abs((trainAcc[index]-testAcc[index])*100), \" %\")\n",
    "    index += 1\n",
    "\n",
    "    \n",
    "#########################################\n",
    "# Plot of training and test accuracies\n",
    "#########################################\n",
    "    \n",
    "plt.plot(maxdepths,trainAcc,'ro-',maxdepths,testAcc,'bv--')\n",
    "plt.legend(['Training Accuracy','Test Accuracy'])\n",
    "plt.xlabel('Max depth')\n",
    "plt.ylabel('Accuracy');"
   ]
  },
  {
   "cell_type": "code",
   "execution_count": 49,
   "id": "73afa596-3cee-4a57-aa7d-f2dbb54ed87c",
   "metadata": {},
   "outputs": [
    {
     "data": {
      "text/html": [
       "<style>#sk-container-id-2 {color: black;background-color: white;}#sk-container-id-2 pre{padding: 0;}#sk-container-id-2 div.sk-toggleable {background-color: white;}#sk-container-id-2 label.sk-toggleable__label {cursor: pointer;display: block;width: 100%;margin-bottom: 0;padding: 0.3em;box-sizing: border-box;text-align: center;}#sk-container-id-2 label.sk-toggleable__label-arrow:before {content: \"▸\";float: left;margin-right: 0.25em;color: #696969;}#sk-container-id-2 label.sk-toggleable__label-arrow:hover:before {color: black;}#sk-container-id-2 div.sk-estimator:hover label.sk-toggleable__label-arrow:before {color: black;}#sk-container-id-2 div.sk-toggleable__content {max-height: 0;max-width: 0;overflow: hidden;text-align: left;background-color: #f0f8ff;}#sk-container-id-2 div.sk-toggleable__content pre {margin: 0.2em;color: black;border-radius: 0.25em;background-color: #f0f8ff;}#sk-container-id-2 input.sk-toggleable__control:checked~div.sk-toggleable__content {max-height: 200px;max-width: 100%;overflow: auto;}#sk-container-id-2 input.sk-toggleable__control:checked~label.sk-toggleable__label-arrow:before {content: \"▾\";}#sk-container-id-2 div.sk-estimator input.sk-toggleable__control:checked~label.sk-toggleable__label {background-color: #d4ebff;}#sk-container-id-2 div.sk-label input.sk-toggleable__control:checked~label.sk-toggleable__label {background-color: #d4ebff;}#sk-container-id-2 input.sk-hidden--visually {border: 0;clip: rect(1px 1px 1px 1px);clip: rect(1px, 1px, 1px, 1px);height: 1px;margin: -1px;overflow: hidden;padding: 0;position: absolute;width: 1px;}#sk-container-id-2 div.sk-estimator {font-family: monospace;background-color: #f0f8ff;border: 1px dotted black;border-radius: 0.25em;box-sizing: border-box;margin-bottom: 0.5em;}#sk-container-id-2 div.sk-estimator:hover {background-color: #d4ebff;}#sk-container-id-2 div.sk-parallel-item::after {content: \"\";width: 100%;border-bottom: 1px solid gray;flex-grow: 1;}#sk-container-id-2 div.sk-label:hover label.sk-toggleable__label {background-color: #d4ebff;}#sk-container-id-2 div.sk-serial::before {content: \"\";position: absolute;border-left: 1px solid gray;box-sizing: border-box;top: 0;bottom: 0;left: 50%;z-index: 0;}#sk-container-id-2 div.sk-serial {display: flex;flex-direction: column;align-items: center;background-color: white;padding-right: 0.2em;padding-left: 0.2em;position: relative;}#sk-container-id-2 div.sk-item {position: relative;z-index: 1;}#sk-container-id-2 div.sk-parallel {display: flex;align-items: stretch;justify-content: center;background-color: white;position: relative;}#sk-container-id-2 div.sk-item::before, #sk-container-id-2 div.sk-parallel-item::before {content: \"\";position: absolute;border-left: 1px solid gray;box-sizing: border-box;top: 0;bottom: 0;left: 50%;z-index: -1;}#sk-container-id-2 div.sk-parallel-item {display: flex;flex-direction: column;z-index: 1;position: relative;background-color: white;}#sk-container-id-2 div.sk-parallel-item:first-child::after {align-self: flex-end;width: 50%;}#sk-container-id-2 div.sk-parallel-item:last-child::after {align-self: flex-start;width: 50%;}#sk-container-id-2 div.sk-parallel-item:only-child::after {width: 0;}#sk-container-id-2 div.sk-dashed-wrapped {border: 1px dashed gray;margin: 0 0.4em 0.5em 0.4em;box-sizing: border-box;padding-bottom: 0.4em;background-color: white;}#sk-container-id-2 div.sk-label label {font-family: monospace;font-weight: bold;display: inline-block;line-height: 1.2em;}#sk-container-id-2 div.sk-label-container {text-align: center;}#sk-container-id-2 div.sk-container {/* jupyter's `normalize.less` sets `[hidden] { display: none; }` but bootstrap.min.css set `[hidden] { display: none !important; }` so we also need the `!important` here to be able to override the default hidden behavior on the sphinx rendered scikit-learn.org. See: https://github.com/scikit-learn/scikit-learn/issues/21755 */display: inline-block !important;position: relative;}#sk-container-id-2 div.sk-text-repr-fallback {display: none;}</style><div id=\"sk-container-id-2\" class=\"sk-top-container\"><div class=\"sk-text-repr-fallback\"><pre>DecisionTreeClassifier(max_depth=2, random_state=0)</pre><b>In a Jupyter environment, please rerun this cell to show the HTML representation or trust the notebook. <br />On GitHub, the HTML representation is unable to render, please try loading this page with nbviewer.org.</b></div><div class=\"sk-container\" hidden><div class=\"sk-item\"><div class=\"sk-estimator sk-toggleable\"><input class=\"sk-toggleable__control sk-hidden--visually\" id=\"sk-estimator-id-4\" type=\"checkbox\" checked><label for=\"sk-estimator-id-4\" class=\"sk-toggleable__label sk-toggleable__label-arrow\">DecisionTreeClassifier</label><div class=\"sk-toggleable__content\"><pre>DecisionTreeClassifier(max_depth=2, random_state=0)</pre></div></div></div></div></div>"
      ],
      "text/plain": [
       "DecisionTreeClassifier(max_depth=2, random_state=0)"
      ]
     },
     "execution_count": 49,
     "metadata": {},
     "output_type": "execute_result"
    }
   ],
   "source": [
    "# create a model \n",
    "dt = DecisionTreeClassifier(max_depth = 2, random_state=0)\n",
    "dt.fit(X_smote, y_smote)"
   ]
  },
  {
   "cell_type": "code",
   "execution_count": 50,
   "id": "67b948fe-511b-4fca-b0aa-219408324617",
   "metadata": {},
   "outputs": [
    {
     "name": "stdout",
     "output_type": "stream",
     "text": [
      "Training Accuracy is:  0.7442748091603053\n",
      "Testing Accuracy is:  0.7402597402597403\n",
      "              precision    recall  f1-score   support\n",
      "\n",
      "           0       0.81      0.81      0.81       107\n",
      "           1       0.57      0.57      0.57        47\n",
      "\n",
      "    accuracy                           0.74       154\n",
      "   macro avg       0.69      0.69      0.69       154\n",
      "weighted avg       0.74      0.74      0.74       154\n",
      "\n"
     ]
    }
   ],
   "source": [
    "# Accuracy on Train\n",
    "print(\"Training Accuracy is: \", dt.score(X_smote, y_smote))\n",
    "\n",
    "# Accuracy on Test\n",
    "print(\"Testing Accuracy is: \", dt.score(X_test, y_test))\n",
    "X_test_prediction  = dt.predict(X_test) \n",
    "\n",
    "print(classification_report(y_test, X_test_prediction))"
   ]
  },
  {
   "cell_type": "code",
   "execution_count": 51,
   "id": "fcbdb87f-34b9-4c36-a9f6-e1004ddfacbe",
   "metadata": {},
   "outputs": [],
   "source": [
    "skfold = StratifiedKFold(n_splits=5)\n",
    "\n",
    "cv_score = cross_val_score(dt,X,Y,cv=skfold)\n"
   ]
  },
  {
   "cell_type": "code",
   "execution_count": 52,
   "id": "33d4070d-4138-4d9e-b7f1-4f18df844657",
   "metadata": {},
   "outputs": [
    {
     "name": "stdout",
     "output_type": "stream",
     "text": [
      "Results =  0.7357015533486122 +/- 0.012208077742788486\n"
     ]
    }
   ],
   "source": [
    "results=cv_score\n",
    "print(\"Results = \", np.mean(results),\"+/-\",np.std(results))"
   ]
  },
  {
   "cell_type": "markdown",
   "id": "2a1e83b5-3607-477e-b499-1ca00734ac2c",
   "metadata": {},
   "source": [
    "# LOGISTIC REGRESSION"
   ]
  },
  {
   "cell_type": "code",
   "execution_count": 53,
   "id": "af0140c3-7126-4a5c-867c-5164afeca8a7",
   "metadata": {},
   "outputs": [
    {
     "name": "stdout",
     "output_type": "stream",
     "text": [
      "Fitting 3 folds for each of 8 candidates, totalling 24 fits\n"
     ]
    },
    {
     "name": "stderr",
     "output_type": "stream",
     "text": [
      "C:\\Users\\harsh\\anaconda3\\Lib\\site-packages\\sklearn\\model_selection\\_validation.py:378: FitFailedWarning: \n",
      "12 fits failed out of a total of 24.\n",
      "The score on these train-test partitions for these parameters will be set to nan.\n",
      "If these failures are not expected, you can try to debug them by setting error_score='raise'.\n",
      "\n",
      "Below are more details about the failures:\n",
      "--------------------------------------------------------------------------------\n",
      "6 fits failed with the following error:\n",
      "Traceback (most recent call last):\n",
      "  File \"C:\\Users\\harsh\\anaconda3\\Lib\\site-packages\\sklearn\\model_selection\\_validation.py\", line 686, in _fit_and_score\n",
      "    estimator.fit(X_train, y_train, **fit_params)\n",
      "  File \"C:\\Users\\harsh\\anaconda3\\Lib\\site-packages\\sklearn\\linear_model\\_logistic.py\", line 1162, in fit\n",
      "    solver = _check_solver(self.solver, self.penalty, self.dual)\n",
      "             ^^^^^^^^^^^^^^^^^^^^^^^^^^^^^^^^^^^^^^^^^^^^^^^^^^^\n",
      "  File \"C:\\Users\\harsh\\anaconda3\\Lib\\site-packages\\sklearn\\linear_model\\_logistic.py\", line 54, in _check_solver\n",
      "    raise ValueError(\n",
      "ValueError: Solver lbfgs supports only 'l2' or 'none' penalties, got l1 penalty.\n",
      "\n",
      "--------------------------------------------------------------------------------\n",
      "6 fits failed with the following error:\n",
      "Traceback (most recent call last):\n",
      "  File \"C:\\Users\\harsh\\anaconda3\\Lib\\site-packages\\sklearn\\model_selection\\_validation.py\", line 686, in _fit_and_score\n",
      "    estimator.fit(X_train, y_train, **fit_params)\n",
      "  File \"C:\\Users\\harsh\\anaconda3\\Lib\\site-packages\\sklearn\\linear_model\\_logistic.py\", line 1162, in fit\n",
      "    solver = _check_solver(self.solver, self.penalty, self.dual)\n",
      "             ^^^^^^^^^^^^^^^^^^^^^^^^^^^^^^^^^^^^^^^^^^^^^^^^^^^\n",
      "  File \"C:\\Users\\harsh\\anaconda3\\Lib\\site-packages\\sklearn\\linear_model\\_logistic.py\", line 54, in _check_solver\n",
      "    raise ValueError(\n",
      "ValueError: Solver lbfgs supports only 'l2' or 'none' penalties, got elasticnet penalty.\n",
      "\n",
      "  warnings.warn(some_fits_failed_message, FitFailedWarning)\n",
      "C:\\Users\\harsh\\anaconda3\\Lib\\site-packages\\sklearn\\model_selection\\_search.py:952: UserWarning: One or more of the test scores are non-finite: [       nan        nan 0.74300254 0.74300254        nan        nan\n",
      " 0.74300254 0.74300254]\n",
      "  warnings.warn(\n"
     ]
    },
    {
     "data": {
      "text/html": [
       "<style>#sk-container-id-3 {color: black;background-color: white;}#sk-container-id-3 pre{padding: 0;}#sk-container-id-3 div.sk-toggleable {background-color: white;}#sk-container-id-3 label.sk-toggleable__label {cursor: pointer;display: block;width: 100%;margin-bottom: 0;padding: 0.3em;box-sizing: border-box;text-align: center;}#sk-container-id-3 label.sk-toggleable__label-arrow:before {content: \"▸\";float: left;margin-right: 0.25em;color: #696969;}#sk-container-id-3 label.sk-toggleable__label-arrow:hover:before {color: black;}#sk-container-id-3 div.sk-estimator:hover label.sk-toggleable__label-arrow:before {color: black;}#sk-container-id-3 div.sk-toggleable__content {max-height: 0;max-width: 0;overflow: hidden;text-align: left;background-color: #f0f8ff;}#sk-container-id-3 div.sk-toggleable__content pre {margin: 0.2em;color: black;border-radius: 0.25em;background-color: #f0f8ff;}#sk-container-id-3 input.sk-toggleable__control:checked~div.sk-toggleable__content {max-height: 200px;max-width: 100%;overflow: auto;}#sk-container-id-3 input.sk-toggleable__control:checked~label.sk-toggleable__label-arrow:before {content: \"▾\";}#sk-container-id-3 div.sk-estimator input.sk-toggleable__control:checked~label.sk-toggleable__label {background-color: #d4ebff;}#sk-container-id-3 div.sk-label input.sk-toggleable__control:checked~label.sk-toggleable__label {background-color: #d4ebff;}#sk-container-id-3 input.sk-hidden--visually {border: 0;clip: rect(1px 1px 1px 1px);clip: rect(1px, 1px, 1px, 1px);height: 1px;margin: -1px;overflow: hidden;padding: 0;position: absolute;width: 1px;}#sk-container-id-3 div.sk-estimator {font-family: monospace;background-color: #f0f8ff;border: 1px dotted black;border-radius: 0.25em;box-sizing: border-box;margin-bottom: 0.5em;}#sk-container-id-3 div.sk-estimator:hover {background-color: #d4ebff;}#sk-container-id-3 div.sk-parallel-item::after {content: \"\";width: 100%;border-bottom: 1px solid gray;flex-grow: 1;}#sk-container-id-3 div.sk-label:hover label.sk-toggleable__label {background-color: #d4ebff;}#sk-container-id-3 div.sk-serial::before {content: \"\";position: absolute;border-left: 1px solid gray;box-sizing: border-box;top: 0;bottom: 0;left: 50%;z-index: 0;}#sk-container-id-3 div.sk-serial {display: flex;flex-direction: column;align-items: center;background-color: white;padding-right: 0.2em;padding-left: 0.2em;position: relative;}#sk-container-id-3 div.sk-item {position: relative;z-index: 1;}#sk-container-id-3 div.sk-parallel {display: flex;align-items: stretch;justify-content: center;background-color: white;position: relative;}#sk-container-id-3 div.sk-item::before, #sk-container-id-3 div.sk-parallel-item::before {content: \"\";position: absolute;border-left: 1px solid gray;box-sizing: border-box;top: 0;bottom: 0;left: 50%;z-index: -1;}#sk-container-id-3 div.sk-parallel-item {display: flex;flex-direction: column;z-index: 1;position: relative;background-color: white;}#sk-container-id-3 div.sk-parallel-item:first-child::after {align-self: flex-end;width: 50%;}#sk-container-id-3 div.sk-parallel-item:last-child::after {align-self: flex-start;width: 50%;}#sk-container-id-3 div.sk-parallel-item:only-child::after {width: 0;}#sk-container-id-3 div.sk-dashed-wrapped {border: 1px dashed gray;margin: 0 0.4em 0.5em 0.4em;box-sizing: border-box;padding-bottom: 0.4em;background-color: white;}#sk-container-id-3 div.sk-label label {font-family: monospace;font-weight: bold;display: inline-block;line-height: 1.2em;}#sk-container-id-3 div.sk-label-container {text-align: center;}#sk-container-id-3 div.sk-container {/* jupyter's `normalize.less` sets `[hidden] { display: none; }` but bootstrap.min.css set `[hidden] { display: none !important; }` so we also need the `!important` here to be able to override the default hidden behavior on the sphinx rendered scikit-learn.org. See: https://github.com/scikit-learn/scikit-learn/issues/21755 */display: inline-block !important;position: relative;}#sk-container-id-3 div.sk-text-repr-fallback {display: none;}</style><div id=\"sk-container-id-3\" class=\"sk-top-container\"><div class=\"sk-text-repr-fallback\"><pre>GridSearchCV(cv=3, estimator=LogisticRegression(), n_jobs=-1,\n",
       "             param_grid={&#x27;max_iter&#x27;: [10000],\n",
       "                         &#x27;penalty&#x27;: [&#x27;l1&#x27;, &#x27;l2&#x27;, &#x27;elasticnet&#x27;, &#x27;none&#x27;],\n",
       "                         &#x27;warm_start&#x27;: [False, True]},\n",
       "             scoring=&#x27;accuracy&#x27;, verbose=1)</pre><b>In a Jupyter environment, please rerun this cell to show the HTML representation or trust the notebook. <br />On GitHub, the HTML representation is unable to render, please try loading this page with nbviewer.org.</b></div><div class=\"sk-container\" hidden><div class=\"sk-item sk-dashed-wrapped\"><div class=\"sk-label-container\"><div class=\"sk-label sk-toggleable\"><input class=\"sk-toggleable__control sk-hidden--visually\" id=\"sk-estimator-id-5\" type=\"checkbox\" ><label for=\"sk-estimator-id-5\" class=\"sk-toggleable__label sk-toggleable__label-arrow\">GridSearchCV</label><div class=\"sk-toggleable__content\"><pre>GridSearchCV(cv=3, estimator=LogisticRegression(), n_jobs=-1,\n",
       "             param_grid={&#x27;max_iter&#x27;: [10000],\n",
       "                         &#x27;penalty&#x27;: [&#x27;l1&#x27;, &#x27;l2&#x27;, &#x27;elasticnet&#x27;, &#x27;none&#x27;],\n",
       "                         &#x27;warm_start&#x27;: [False, True]},\n",
       "             scoring=&#x27;accuracy&#x27;, verbose=1)</pre></div></div></div><div class=\"sk-parallel\"><div class=\"sk-parallel-item\"><div class=\"sk-item\"><div class=\"sk-label-container\"><div class=\"sk-label sk-toggleable\"><input class=\"sk-toggleable__control sk-hidden--visually\" id=\"sk-estimator-id-6\" type=\"checkbox\" ><label for=\"sk-estimator-id-6\" class=\"sk-toggleable__label sk-toggleable__label-arrow\">estimator: LogisticRegression</label><div class=\"sk-toggleable__content\"><pre>LogisticRegression()</pre></div></div></div><div class=\"sk-serial\"><div class=\"sk-item\"><div class=\"sk-estimator sk-toggleable\"><input class=\"sk-toggleable__control sk-hidden--visually\" id=\"sk-estimator-id-7\" type=\"checkbox\" ><label for=\"sk-estimator-id-7\" class=\"sk-toggleable__label sk-toggleable__label-arrow\">LogisticRegression</label><div class=\"sk-toggleable__content\"><pre>LogisticRegression()</pre></div></div></div></div></div></div></div></div></div></div>"
      ],
      "text/plain": [
       "GridSearchCV(cv=3, estimator=LogisticRegression(), n_jobs=-1,\n",
       "             param_grid={'max_iter': [10000],\n",
       "                         'penalty': ['l1', 'l2', 'elasticnet', 'none'],\n",
       "                         'warm_start': [False, True]},\n",
       "             scoring='accuracy', verbose=1)"
      ]
     },
     "execution_count": 53,
     "metadata": {},
     "output_type": "execute_result"
    }
   ],
   "source": [
    "lr = LogisticRegression()\n",
    "from sklearn.model_selection import GridSearchCV\n",
    "\n",
    "grid_params = { \n",
    "    'max_iter' : [10000],\n",
    "    'warm_start' : [False, True],  # Corrected: without quotes\n",
    "    'penalty' : ['l1', 'l2', 'elasticnet', 'none']\n",
    "}\n",
    "\n",
    "lr_grid = GridSearchCV(\n",
    "    LogisticRegression(),\n",
    "    grid_params,\n",
    "    verbose=1,\n",
    "    scoring='accuracy',\n",
    "    cv=3,\n",
    "    n_jobs=-1\n",
    ")\n",
    "\n",
    "lr_grid.fit(X_smote, y_smote)\n"
   ]
  },
  {
   "cell_type": "code",
   "execution_count": 54,
   "id": "ffff221e-06a3-4d63-8aaa-aa5e58406d3d",
   "metadata": {},
   "outputs": [],
   "source": [
    "lr_bestgrid=lr_grid.best_estimator_"
   ]
  },
  {
   "cell_type": "code",
   "execution_count": 55,
   "id": "089dba6a-210d-48c2-83ba-e0b41bdd4207",
   "metadata": {},
   "outputs": [
    {
     "name": "stdout",
     "output_type": "stream",
     "text": [
      "[[82 25]\n",
      " [14 33]]\n",
      "Accuracy Score 0.7467532467532467\n",
      "              precision    recall  f1-score   support\n",
      "\n",
      "           0       0.85      0.77      0.81       107\n",
      "           1       0.57      0.70      0.63        47\n",
      "\n",
      "    accuracy                           0.75       154\n",
      "   macro avg       0.71      0.73      0.72       154\n",
      "weighted avg       0.77      0.75      0.75       154\n",
      "\n"
     ]
    }
   ],
   "source": [
    "y_pred=lr_bestgrid.predict(X_test)\n",
    "print(confusion_matrix(y_test,y_pred))\n",
    "print(\"Accuracy Score {}\".format(accuracy_score(y_test,y_pred)))\n",
    "print(classification_report(y_test,y_pred))"
   ]
  },
  {
   "cell_type": "code",
   "execution_count": 56,
   "id": "8d221bf7-5868-48b2-95ab-4c374dc866f5",
   "metadata": {},
   "outputs": [
    {
     "name": "stdout",
     "output_type": "stream",
     "text": [
      "Results =  0.7708598590951532 +/- 0.01627984526015177\n"
     ]
    }
   ],
   "source": [
    "skfold = StratifiedKFold(n_splits=5)\n",
    "\n",
    "cv_score = cross_val_score(lr_bestgrid,X,Y,cv=skfold)\n",
    "results=cv_score\n",
    "print(\"Results = \", np.mean(results),\"+/-\",np.std(results))"
   ]
  },
  {
   "cell_type": "markdown",
   "id": "a96bf66c-3913-4105-9243-3003cd89f9ba",
   "metadata": {},
   "source": [
    "# GAUSIEN NAIVE BAYS"
   ]
  },
  {
   "cell_type": "code",
   "execution_count": 57,
   "id": "cb398903-c3a8-4fa6-a08f-8acf0fe6276b",
   "metadata": {},
   "outputs": [
    {
     "name": "stdout",
     "output_type": "stream",
     "text": [
      "Fitting 3 folds for each of 100 candidates, totalling 300 fits\n"
     ]
    },
    {
     "data": {
      "text/html": [
       "<style>#sk-container-id-4 {color: black;background-color: white;}#sk-container-id-4 pre{padding: 0;}#sk-container-id-4 div.sk-toggleable {background-color: white;}#sk-container-id-4 label.sk-toggleable__label {cursor: pointer;display: block;width: 100%;margin-bottom: 0;padding: 0.3em;box-sizing: border-box;text-align: center;}#sk-container-id-4 label.sk-toggleable__label-arrow:before {content: \"▸\";float: left;margin-right: 0.25em;color: #696969;}#sk-container-id-4 label.sk-toggleable__label-arrow:hover:before {color: black;}#sk-container-id-4 div.sk-estimator:hover label.sk-toggleable__label-arrow:before {color: black;}#sk-container-id-4 div.sk-toggleable__content {max-height: 0;max-width: 0;overflow: hidden;text-align: left;background-color: #f0f8ff;}#sk-container-id-4 div.sk-toggleable__content pre {margin: 0.2em;color: black;border-radius: 0.25em;background-color: #f0f8ff;}#sk-container-id-4 input.sk-toggleable__control:checked~div.sk-toggleable__content {max-height: 200px;max-width: 100%;overflow: auto;}#sk-container-id-4 input.sk-toggleable__control:checked~label.sk-toggleable__label-arrow:before {content: \"▾\";}#sk-container-id-4 div.sk-estimator input.sk-toggleable__control:checked~label.sk-toggleable__label {background-color: #d4ebff;}#sk-container-id-4 div.sk-label input.sk-toggleable__control:checked~label.sk-toggleable__label {background-color: #d4ebff;}#sk-container-id-4 input.sk-hidden--visually {border: 0;clip: rect(1px 1px 1px 1px);clip: rect(1px, 1px, 1px, 1px);height: 1px;margin: -1px;overflow: hidden;padding: 0;position: absolute;width: 1px;}#sk-container-id-4 div.sk-estimator {font-family: monospace;background-color: #f0f8ff;border: 1px dotted black;border-radius: 0.25em;box-sizing: border-box;margin-bottom: 0.5em;}#sk-container-id-4 div.sk-estimator:hover {background-color: #d4ebff;}#sk-container-id-4 div.sk-parallel-item::after {content: \"\";width: 100%;border-bottom: 1px solid gray;flex-grow: 1;}#sk-container-id-4 div.sk-label:hover label.sk-toggleable__label {background-color: #d4ebff;}#sk-container-id-4 div.sk-serial::before {content: \"\";position: absolute;border-left: 1px solid gray;box-sizing: border-box;top: 0;bottom: 0;left: 50%;z-index: 0;}#sk-container-id-4 div.sk-serial {display: flex;flex-direction: column;align-items: center;background-color: white;padding-right: 0.2em;padding-left: 0.2em;position: relative;}#sk-container-id-4 div.sk-item {position: relative;z-index: 1;}#sk-container-id-4 div.sk-parallel {display: flex;align-items: stretch;justify-content: center;background-color: white;position: relative;}#sk-container-id-4 div.sk-item::before, #sk-container-id-4 div.sk-parallel-item::before {content: \"\";position: absolute;border-left: 1px solid gray;box-sizing: border-box;top: 0;bottom: 0;left: 50%;z-index: -1;}#sk-container-id-4 div.sk-parallel-item {display: flex;flex-direction: column;z-index: 1;position: relative;background-color: white;}#sk-container-id-4 div.sk-parallel-item:first-child::after {align-self: flex-end;width: 50%;}#sk-container-id-4 div.sk-parallel-item:last-child::after {align-self: flex-start;width: 50%;}#sk-container-id-4 div.sk-parallel-item:only-child::after {width: 0;}#sk-container-id-4 div.sk-dashed-wrapped {border: 1px dashed gray;margin: 0 0.4em 0.5em 0.4em;box-sizing: border-box;padding-bottom: 0.4em;background-color: white;}#sk-container-id-4 div.sk-label label {font-family: monospace;font-weight: bold;display: inline-block;line-height: 1.2em;}#sk-container-id-4 div.sk-label-container {text-align: center;}#sk-container-id-4 div.sk-container {/* jupyter's `normalize.less` sets `[hidden] { display: none; }` but bootstrap.min.css set `[hidden] { display: none !important; }` so we also need the `!important` here to be able to override the default hidden behavior on the sphinx rendered scikit-learn.org. See: https://github.com/scikit-learn/scikit-learn/issues/21755 */display: inline-block !important;position: relative;}#sk-container-id-4 div.sk-text-repr-fallback {display: none;}</style><div id=\"sk-container-id-4\" class=\"sk-top-container\"><div class=\"sk-text-repr-fallback\"><pre>GridSearchCV(cv=3, estimator=GaussianNB(),\n",
       "             param_grid={&#x27;var_smoothing&#x27;: array([1.00000000e+00, 8.11130831e-01, 6.57933225e-01, 5.33669923e-01,\n",
       "       4.32876128e-01, 3.51119173e-01, 2.84803587e-01, 2.31012970e-01,\n",
       "       1.87381742e-01, 1.51991108e-01, 1.23284674e-01, 1.00000000e-01,\n",
       "       8.11130831e-02, 6.57933225e-02, 5.33669923e-02, 4.32876128e-02,\n",
       "       3.51119173e-02, 2.84803587e-02, 2.31...\n",
       "       1.23284674e-07, 1.00000000e-07, 8.11130831e-08, 6.57933225e-08,\n",
       "       5.33669923e-08, 4.32876128e-08, 3.51119173e-08, 2.84803587e-08,\n",
       "       2.31012970e-08, 1.87381742e-08, 1.51991108e-08, 1.23284674e-08,\n",
       "       1.00000000e-08, 8.11130831e-09, 6.57933225e-09, 5.33669923e-09,\n",
       "       4.32876128e-09, 3.51119173e-09, 2.84803587e-09, 2.31012970e-09,\n",
       "       1.87381742e-09, 1.51991108e-09, 1.23284674e-09, 1.00000000e-09])},\n",
       "             scoring=&#x27;accuracy&#x27;, verbose=1)</pre><b>In a Jupyter environment, please rerun this cell to show the HTML representation or trust the notebook. <br />On GitHub, the HTML representation is unable to render, please try loading this page with nbviewer.org.</b></div><div class=\"sk-container\" hidden><div class=\"sk-item sk-dashed-wrapped\"><div class=\"sk-label-container\"><div class=\"sk-label sk-toggleable\"><input class=\"sk-toggleable__control sk-hidden--visually\" id=\"sk-estimator-id-8\" type=\"checkbox\" ><label for=\"sk-estimator-id-8\" class=\"sk-toggleable__label sk-toggleable__label-arrow\">GridSearchCV</label><div class=\"sk-toggleable__content\"><pre>GridSearchCV(cv=3, estimator=GaussianNB(),\n",
       "             param_grid={&#x27;var_smoothing&#x27;: array([1.00000000e+00, 8.11130831e-01, 6.57933225e-01, 5.33669923e-01,\n",
       "       4.32876128e-01, 3.51119173e-01, 2.84803587e-01, 2.31012970e-01,\n",
       "       1.87381742e-01, 1.51991108e-01, 1.23284674e-01, 1.00000000e-01,\n",
       "       8.11130831e-02, 6.57933225e-02, 5.33669923e-02, 4.32876128e-02,\n",
       "       3.51119173e-02, 2.84803587e-02, 2.31...\n",
       "       1.23284674e-07, 1.00000000e-07, 8.11130831e-08, 6.57933225e-08,\n",
       "       5.33669923e-08, 4.32876128e-08, 3.51119173e-08, 2.84803587e-08,\n",
       "       2.31012970e-08, 1.87381742e-08, 1.51991108e-08, 1.23284674e-08,\n",
       "       1.00000000e-08, 8.11130831e-09, 6.57933225e-09, 5.33669923e-09,\n",
       "       4.32876128e-09, 3.51119173e-09, 2.84803587e-09, 2.31012970e-09,\n",
       "       1.87381742e-09, 1.51991108e-09, 1.23284674e-09, 1.00000000e-09])},\n",
       "             scoring=&#x27;accuracy&#x27;, verbose=1)</pre></div></div></div><div class=\"sk-parallel\"><div class=\"sk-parallel-item\"><div class=\"sk-item\"><div class=\"sk-label-container\"><div class=\"sk-label sk-toggleable\"><input class=\"sk-toggleable__control sk-hidden--visually\" id=\"sk-estimator-id-9\" type=\"checkbox\" ><label for=\"sk-estimator-id-9\" class=\"sk-toggleable__label sk-toggleable__label-arrow\">estimator: GaussianNB</label><div class=\"sk-toggleable__content\"><pre>GaussianNB()</pre></div></div></div><div class=\"sk-serial\"><div class=\"sk-item\"><div class=\"sk-estimator sk-toggleable\"><input class=\"sk-toggleable__control sk-hidden--visually\" id=\"sk-estimator-id-10\" type=\"checkbox\" ><label for=\"sk-estimator-id-10\" class=\"sk-toggleable__label sk-toggleable__label-arrow\">GaussianNB</label><div class=\"sk-toggleable__content\"><pre>GaussianNB()</pre></div></div></div></div></div></div></div></div></div></div>"
      ],
      "text/plain": [
       "GridSearchCV(cv=3, estimator=GaussianNB(),\n",
       "             param_grid={'var_smoothing': array([1.00000000e+00, 8.11130831e-01, 6.57933225e-01, 5.33669923e-01,\n",
       "       4.32876128e-01, 3.51119173e-01, 2.84803587e-01, 2.31012970e-01,\n",
       "       1.87381742e-01, 1.51991108e-01, 1.23284674e-01, 1.00000000e-01,\n",
       "       8.11130831e-02, 6.57933225e-02, 5.33669923e-02, 4.32876128e-02,\n",
       "       3.51119173e-02, 2.84803587e-02, 2.31...\n",
       "       1.23284674e-07, 1.00000000e-07, 8.11130831e-08, 6.57933225e-08,\n",
       "       5.33669923e-08, 4.32876128e-08, 3.51119173e-08, 2.84803587e-08,\n",
       "       2.31012970e-08, 1.87381742e-08, 1.51991108e-08, 1.23284674e-08,\n",
       "       1.00000000e-08, 8.11130831e-09, 6.57933225e-09, 5.33669923e-09,\n",
       "       4.32876128e-09, 3.51119173e-09, 2.84803587e-09, 2.31012970e-09,\n",
       "       1.87381742e-09, 1.51991108e-09, 1.23284674e-09, 1.00000000e-09])},\n",
       "             scoring='accuracy', verbose=1)"
      ]
     },
     "execution_count": 57,
     "metadata": {},
     "output_type": "execute_result"
    }
   ],
   "source": [
    "nb_classifier = GaussianNB()\n",
    "\n",
    "params_NB = {'var_smoothing': np.logspace(0,-9, num=100)}\n",
    "gs_NB = GridSearchCV(GaussianNB(), \n",
    "                 param_grid=params_NB, \n",
    "                 cv=3,   # use any cross validation technique \n",
    "                 verbose=1, \n",
    "                 scoring='accuracy') \n",
    "gs_NB.fit(X_smote, y_smote)\n"
   ]
  },
  {
   "cell_type": "code",
   "execution_count": 58,
   "id": "405a1b91-4388-457c-a56d-233e69c6b0ea",
   "metadata": {},
   "outputs": [
    {
     "data": {
      "text/plain": [
       "{'var_smoothing': 0.0023101297000831605}"
      ]
     },
     "execution_count": 58,
     "metadata": {},
     "output_type": "execute_result"
    }
   ],
   "source": [
    "gs_NB.best_params_"
   ]
  },
  {
   "cell_type": "code",
   "execution_count": 59,
   "id": "4e8c7748-1229-4261-aee8-f587ac4e4642",
   "metadata": {},
   "outputs": [],
   "source": [
    "gs_NB=gs_NB.best_estimator_"
   ]
  },
  {
   "cell_type": "code",
   "execution_count": 60,
   "id": "27f538ee-0bfa-49c9-a1ec-f593849e949f",
   "metadata": {},
   "outputs": [
    {
     "name": "stdout",
     "output_type": "stream",
     "text": [
      "[[87 20]\n",
      " [16 31]]\n",
      "Accuracy Score 0.7662337662337663\n",
      "              precision    recall  f1-score   support\n",
      "\n",
      "           0       0.84      0.81      0.83       107\n",
      "           1       0.61      0.66      0.63        47\n",
      "\n",
      "    accuracy                           0.77       154\n",
      "   macro avg       0.73      0.74      0.73       154\n",
      "weighted avg       0.77      0.77      0.77       154\n",
      "\n"
     ]
    }
   ],
   "source": [
    "y_pred=gs_NB.predict(X_test)\n",
    "print(confusion_matrix(y_test,y_pred))\n",
    "print(\"Accuracy Score {}\".format(accuracy_score(y_test,y_pred)))\n",
    "print(classification_report(y_test,y_pred))"
   ]
  },
  {
   "cell_type": "code",
   "execution_count": 61,
   "id": "e670d641-992c-4eb8-a28a-17c827b8931c",
   "metadata": {},
   "outputs": [
    {
     "name": "stdout",
     "output_type": "stream",
     "text": [
      "Results =  0.7513453866395042 +/- 0.02026141123825363\n"
     ]
    }
   ],
   "source": [
    "skfold = StratifiedKFold(n_splits=5)\n",
    "\n",
    "cv_score = cross_val_score(GaussianNB(),X,Y,cv=skfold)\n",
    "results=cv_score\n",
    "print(\"Results = \", np.mean(results),\"+/-\",np.std(results))"
   ]
  },
  {
   "cell_type": "markdown",
   "id": "0fcd0e42-8a19-46d5-8547-e5a2f90c4bce",
   "metadata": {},
   "source": [
    "# RANDOM FOREST "
   ]
  },
  {
   "cell_type": "code",
   "execution_count": 62,
   "id": "25fb73d6-dae6-496e-989f-392b92dce22a",
   "metadata": {},
   "outputs": [
    {
     "data": {
      "text/html": [
       "<style>#sk-container-id-5 {color: black;background-color: white;}#sk-container-id-5 pre{padding: 0;}#sk-container-id-5 div.sk-toggleable {background-color: white;}#sk-container-id-5 label.sk-toggleable__label {cursor: pointer;display: block;width: 100%;margin-bottom: 0;padding: 0.3em;box-sizing: border-box;text-align: center;}#sk-container-id-5 label.sk-toggleable__label-arrow:before {content: \"▸\";float: left;margin-right: 0.25em;color: #696969;}#sk-container-id-5 label.sk-toggleable__label-arrow:hover:before {color: black;}#sk-container-id-5 div.sk-estimator:hover label.sk-toggleable__label-arrow:before {color: black;}#sk-container-id-5 div.sk-toggleable__content {max-height: 0;max-width: 0;overflow: hidden;text-align: left;background-color: #f0f8ff;}#sk-container-id-5 div.sk-toggleable__content pre {margin: 0.2em;color: black;border-radius: 0.25em;background-color: #f0f8ff;}#sk-container-id-5 input.sk-toggleable__control:checked~div.sk-toggleable__content {max-height: 200px;max-width: 100%;overflow: auto;}#sk-container-id-5 input.sk-toggleable__control:checked~label.sk-toggleable__label-arrow:before {content: \"▾\";}#sk-container-id-5 div.sk-estimator input.sk-toggleable__control:checked~label.sk-toggleable__label {background-color: #d4ebff;}#sk-container-id-5 div.sk-label input.sk-toggleable__control:checked~label.sk-toggleable__label {background-color: #d4ebff;}#sk-container-id-5 input.sk-hidden--visually {border: 0;clip: rect(1px 1px 1px 1px);clip: rect(1px, 1px, 1px, 1px);height: 1px;margin: -1px;overflow: hidden;padding: 0;position: absolute;width: 1px;}#sk-container-id-5 div.sk-estimator {font-family: monospace;background-color: #f0f8ff;border: 1px dotted black;border-radius: 0.25em;box-sizing: border-box;margin-bottom: 0.5em;}#sk-container-id-5 div.sk-estimator:hover {background-color: #d4ebff;}#sk-container-id-5 div.sk-parallel-item::after {content: \"\";width: 100%;border-bottom: 1px solid gray;flex-grow: 1;}#sk-container-id-5 div.sk-label:hover label.sk-toggleable__label {background-color: #d4ebff;}#sk-container-id-5 div.sk-serial::before {content: \"\";position: absolute;border-left: 1px solid gray;box-sizing: border-box;top: 0;bottom: 0;left: 50%;z-index: 0;}#sk-container-id-5 div.sk-serial {display: flex;flex-direction: column;align-items: center;background-color: white;padding-right: 0.2em;padding-left: 0.2em;position: relative;}#sk-container-id-5 div.sk-item {position: relative;z-index: 1;}#sk-container-id-5 div.sk-parallel {display: flex;align-items: stretch;justify-content: center;background-color: white;position: relative;}#sk-container-id-5 div.sk-item::before, #sk-container-id-5 div.sk-parallel-item::before {content: \"\";position: absolute;border-left: 1px solid gray;box-sizing: border-box;top: 0;bottom: 0;left: 50%;z-index: -1;}#sk-container-id-5 div.sk-parallel-item {display: flex;flex-direction: column;z-index: 1;position: relative;background-color: white;}#sk-container-id-5 div.sk-parallel-item:first-child::after {align-self: flex-end;width: 50%;}#sk-container-id-5 div.sk-parallel-item:last-child::after {align-self: flex-start;width: 50%;}#sk-container-id-5 div.sk-parallel-item:only-child::after {width: 0;}#sk-container-id-5 div.sk-dashed-wrapped {border: 1px dashed gray;margin: 0 0.4em 0.5em 0.4em;box-sizing: border-box;padding-bottom: 0.4em;background-color: white;}#sk-container-id-5 div.sk-label label {font-family: monospace;font-weight: bold;display: inline-block;line-height: 1.2em;}#sk-container-id-5 div.sk-label-container {text-align: center;}#sk-container-id-5 div.sk-container {/* jupyter's `normalize.less` sets `[hidden] { display: none; }` but bootstrap.min.css set `[hidden] { display: none !important; }` so we also need the `!important` here to be able to override the default hidden behavior on the sphinx rendered scikit-learn.org. See: https://github.com/scikit-learn/scikit-learn/issues/21755 */display: inline-block !important;position: relative;}#sk-container-id-5 div.sk-text-repr-fallback {display: none;}</style><div id=\"sk-container-id-5\" class=\"sk-top-container\"><div class=\"sk-text-repr-fallback\"><pre>RandomForestClassifier(max_depth=780, max_features=&#x27;log2&#x27;, n_estimators=600)</pre><b>In a Jupyter environment, please rerun this cell to show the HTML representation or trust the notebook. <br />On GitHub, the HTML representation is unable to render, please try loading this page with nbviewer.org.</b></div><div class=\"sk-container\" hidden><div class=\"sk-item\"><div class=\"sk-estimator sk-toggleable\"><input class=\"sk-toggleable__control sk-hidden--visually\" id=\"sk-estimator-id-11\" type=\"checkbox\" checked><label for=\"sk-estimator-id-11\" class=\"sk-toggleable__label sk-toggleable__label-arrow\">RandomForestClassifier</label><div class=\"sk-toggleable__content\"><pre>RandomForestClassifier(max_depth=780, max_features=&#x27;log2&#x27;, n_estimators=600)</pre></div></div></div></div></div>"
      ],
      "text/plain": [
       "RandomForestClassifier(max_depth=780, max_features='log2', n_estimators=600)"
      ]
     },
     "execution_count": 62,
     "metadata": {},
     "output_type": "execute_result"
    }
   ],
   "source": [
    "###The hyperparameter we got from grid search\n",
    "rf=RandomForestClassifier(max_depth=780, max_features='log2', n_estimators=600)\n",
    "### fit the randomized model\n",
    "rf.fit(X_smote, y_smote)\n"
   ]
  },
  {
   "cell_type": "code",
   "execution_count": 63,
   "id": "79ccfafa-c429-4c35-8177-9af8772d1801",
   "metadata": {},
   "outputs": [
    {
     "name": "stdout",
     "output_type": "stream",
     "text": [
      "[[89 18]\n",
      " [ 9 38]]\n",
      "Accuracy Score 0.8246753246753247\n",
      "              precision    recall  f1-score   support\n",
      "\n",
      "           0       0.91      0.83      0.87       107\n",
      "           1       0.68      0.81      0.74        47\n",
      "\n",
      "    accuracy                           0.82       154\n",
      "   macro avg       0.79      0.82      0.80       154\n",
      "weighted avg       0.84      0.82      0.83       154\n",
      "\n"
     ]
    }
   ],
   "source": [
    "from sklearn.metrics import accuracy_score\n",
    "y_pred=rf.predict(X_test)\n",
    "print(confusion_matrix(y_test,y_pred))\n",
    "print(\"Accuracy Score {}\".format(accuracy_score(y_test,y_pred)))\n",
    "print(classification_report(y_test, y_pred))"
   ]
  },
  {
   "cell_type": "code",
   "execution_count": 64,
   "id": "3ff3846c-ba28-472e-9a58-30d79e1741cd",
   "metadata": {},
   "outputs": [
    {
     "name": "stdout",
     "output_type": "stream",
     "text": [
      "Results =  0.7617689500042442 +/- 0.033280209757236986\n"
     ]
    }
   ],
   "source": [
    "skfold = StratifiedKFold(n_splits=5)\n",
    "\n",
    "cv_score = cross_val_score(rf,X,Y,cv=skfold)\n",
    "results=cv_score\n",
    "print(\"Results = \", np.mean(results),\"+/-\",np.std(results))"
   ]
  },
  {
   "cell_type": "markdown",
   "id": "3dec073a-9e9a-46d8-9ba4-75c01d3700b4",
   "metadata": {},
   "source": [
    "# XG BOOST"
   ]
  },
  {
   "cell_type": "code",
   "execution_count": 65,
   "id": "bdbfcf84-848d-4f42-95ab-333f64331474",
   "metadata": {},
   "outputs": [],
   "source": [
    "###The hyperparameter we got from grid search\n",
    "from xgboost import XGBClassifier\n",
    "xgbc = XGBClassifier(colsample_bytree = 0.8,\n",
    " gamma= 1,\n",
    " max_depth= 3,\n",
    " min_child_weight= 1,\n",
    " subsample= 0.8,\n",
    " objective= 'binary:logistic',\n",
    " nthread= -1,\n",
    " scale_pos_weight=1).fit(X_smote, y_smote)"
   ]
  },
  {
   "cell_type": "code",
   "execution_count": 66,
   "id": "d567d20a-7028-4c92-8a19-7462f0eaa7bd",
   "metadata": {},
   "outputs": [
    {
     "name": "stdout",
     "output_type": "stream",
     "text": [
      "[[85 22]\n",
      " [10 37]]\n",
      "Accuracy Score 0.7922077922077922\n",
      "              precision    recall  f1-score   support\n",
      "\n",
      "           0       0.89      0.79      0.84       107\n",
      "           1       0.63      0.79      0.70        47\n",
      "\n",
      "    accuracy                           0.79       154\n",
      "   macro avg       0.76      0.79      0.77       154\n",
      "weighted avg       0.81      0.79      0.80       154\n",
      "\n"
     ]
    }
   ],
   "source": [
    "from sklearn.metrics import accuracy_score\n",
    "y_pred=xgbc.predict(X_test)\n",
    "print(confusion_matrix(y_test,y_pred))\n",
    "print(\"Accuracy Score {}\".format(accuracy_score(y_test,y_pred)))\n",
    "print(classification_report(y_test, y_pred))"
   ]
  },
  {
   "cell_type": "code",
   "execution_count": 67,
   "id": "e97465b5-e79f-4372-adc3-43bb01077d86",
   "metadata": {},
   "outputs": [
    {
     "name": "stdout",
     "output_type": "stream",
     "text": [
      "Results =  0.753968253968254 +/- 0.03093904893130128\n"
     ]
    }
   ],
   "source": [
    "skfold = StratifiedKFold(n_splits=5)\n",
    "\n",
    "cv_score = cross_val_score(xgbc,X,Y,cv=skfold)\n",
    "results=cv_score\n",
    "print(\"Results = \", np.mean(results),\"+/-\",np.std(results))"
   ]
  },
  {
   "cell_type": "markdown",
   "id": "4bc293e4-27c7-4d13-8f23-2eb053863d27",
   "metadata": {},
   "source": [
    "# ADA BOOST"
   ]
  },
  {
   "cell_type": "code",
   "execution_count": 68,
   "id": "8aafd2a4-3837-4490-862d-6533839b4cc3",
   "metadata": {},
   "outputs": [
    {
     "name": "stdout",
     "output_type": "stream",
     "text": [
      "              precision    recall  f1-score   support\n",
      "\n",
      "           0       0.91      0.82      0.86       107\n",
      "           1       0.67      0.81      0.73        47\n",
      "\n",
      "    accuracy                           0.82       154\n",
      "   macro avg       0.79      0.82      0.80       154\n",
      "weighted avg       0.83      0.82      0.82       154\n",
      "\n"
     ]
    }
   ],
   "source": [
    "from sklearn.ensemble import AdaBoostClassifier\n",
    "#lrc = LogisticRegression(max_iter=1100)\n",
    "abc = AdaBoostClassifier(n_estimators=50,estimator=rf,learning_rate=1).fit(X_smote, y_smote)\n",
    "\n",
    "print(classification_report(y_test,abc.predict(X_test)))"
   ]
  },
  {
   "cell_type": "code",
   "execution_count": 69,
   "id": "e71dc2b1-b382-4ec8-bf0d-c4f2c19586a4",
   "metadata": {},
   "outputs": [
    {
     "name": "stdout",
     "output_type": "stream",
     "text": [
      "Results =  0.7591800356506239 +/- 0.04089192743306103\n"
     ]
    }
   ],
   "source": [
    "skfold = StratifiedKFold(n_splits=5)\n",
    "\n",
    "cv_score = cross_val_score(abc,X,Y,cv=skfold)\n",
    "results=cv_score\n",
    "print(\"Results = \", np.mean(results),\"+/-\",np.std(results))"
   ]
  },
  {
   "cell_type": "markdown",
   "id": "031922cb-6e72-4a30-9916-b45b9cc6245c",
   "metadata": {},
   "source": [
    "# KNN "
   ]
  },
  {
   "cell_type": "code",
   "execution_count": 70,
   "id": "a8a179a7-7042-46c2-ba47-26b12f2befbe",
   "metadata": {},
   "outputs": [
    {
     "name": "stdout",
     "output_type": "stream",
     "text": [
      "Accuracy score of Test data:  0.7467532467532467\n",
      "              precision    recall  f1-score   support\n",
      "\n",
      "           0       0.90      0.71      0.80       107\n",
      "           1       0.56      0.83      0.67        47\n",
      "\n",
      "    accuracy                           0.75       154\n",
      "   macro avg       0.73      0.77      0.73       154\n",
      "weighted avg       0.80      0.75      0.76       154\n",
      "\n"
     ]
    }
   ],
   "source": [
    "from sklearn.neighbors import KNeighborsClassifier\n",
    "knn = KNeighborsClassifier(n_neighbors=36)\n",
    "knn.fit(X_smote, y_smote)\n",
    "\n",
    "# accuracy score on the test data\n",
    "knn_prediction = knn.predict(X_test) \n",
    "knn_prediction_accuracy = accuracy_score(knn_prediction, y_test) \n",
    "print('Accuracy score of Test data: ', knn_prediction_accuracy)\n",
    "print(classification_report(y_test, knn_prediction)) "
   ]
  },
  {
   "cell_type": "code",
   "execution_count": 71,
   "id": "5b34d054-00f3-4b3a-ade1-f2b24e6299d3",
   "metadata": {},
   "outputs": [],
   "source": [
    "k = range(1, 100)\n",
    "train_acc = []\n",
    "test_acc = []\n",
    "for x in k:\n",
    "    knn_clf = KNeighborsClassifier(n_neighbors = x) # Euclidean Distance Metric\n",
    "    knn_clf.fit(X_smote, y_smote)\n",
    "    y_pred = knn_clf.predict(X_test)\n",
    "    train_acc.append(accuracy_score(y_smote, knn_clf.predict(X_smote)))\n",
    "    test_acc.append(accuracy_score(y_test, y_pred))"
   ]
  },
  {
   "cell_type": "code",
   "execution_count": 72,
   "id": "0d388f0b-e719-465f-bd3f-67470ebd8686",
   "metadata": {},
   "outputs": [
    {
     "data": {
      "image/png": "[encoded data removed]",
      "text/plain": [
       "<Figure size 1000x1000 with 1 Axes>"
      ]
     },
     "metadata": {},
     "output_type": "display_data"
    }
   ],
   "source": [
    "plt.figure(figsize = (10,10))\n",
    "plt.plot(k,train_acc,'ro-',k,test_acc,'bv--')\n",
    "plt.legend(['Train Accuracy','Test Accuracy'])\n",
    "plt.xlabel('Number of Neighbors (K)')\n",
    "plt.ylabel('Accuracy');"
   ]
  },
  {
   "cell_type": "code",
   "execution_count": 73,
   "id": "0de5d48a-2c65-4807-ab4b-1caf81b3a8ab",
   "metadata": {},
   "outputs": [
    {
     "name": "stdout",
     "output_type": "stream",
     "text": [
      "Number of neighbors =  1 Train accuracy =  1.0 Test Accuracy =  0.7012987012987013 Difference =  29.87012987012987 %\n",
      "Number of neighbors =  2 Train accuracy =  0.9389312977099237 Test Accuracy =  0.6818181818181818 Difference =  25.71131158917419 %\n",
      "Number of neighbors =  3 Train accuracy =  0.8816793893129771 Test Accuracy =  0.7207792207792207 Difference =  16.090016853375634 %\n",
      "Number of neighbors =  4 Train accuracy =  0.8638676844783715 Test Accuracy =  0.7402597402597403 Difference =  12.360794421863119 %\n",
      "Number of neighbors =  5 Train accuracy =  0.8307888040712468 Test Accuracy =  0.7272727272727273 Difference =  10.351607679851949 %\n",
      "Number of neighbors =  6 Train accuracy =  0.8180661577608143 Test Accuracy =  0.7337662337662337 Difference =  8.429992399458053 %\n",
      "Number of neighbors =  7 Train accuracy =  0.8015267175572519 Test Accuracy =  0.7402597402597403 Difference =  6.126697729751163 %\n",
      "Number of neighbors =  8 Train accuracy =  0.7862595419847328 Test Accuracy =  0.7532467532467533 Difference =  3.3012788737979526 %\n",
      "Number of neighbors =  9 Train accuracy =  0.7760814249363868 Test Accuracy =  0.7597402597402597 Difference =  1.634116519612705 %\n",
      "Number of neighbors =  10 Train accuracy =  0.7888040712468194 Test Accuracy =  0.7727272727272727 Difference =  1.6076798519546687 %\n",
      "Number of neighbors =  11 Train accuracy =  0.7697201017811705 Test Accuracy =  0.7402597402597403 Difference =  2.9460361521430167 %\n",
      "Number of neighbors =  12 Train accuracy =  0.7811704834605598 Test Accuracy =  0.7532467532467533 Difference =  2.7923730213806564 %\n",
      "Number of neighbors =  13 Train accuracy =  0.767175572519084 Test Accuracy =  0.7337662337662337 Difference =  3.3409338752850237 %\n",
      "Number of neighbors =  14 Train accuracy =  0.7620865139949109 Test Accuracy =  0.7402597402597403 Difference =  2.1826773735170613 %\n",
      "Number of neighbors =  15 Train accuracy =  0.7595419847328244 Test Accuracy =  0.7337662337662337 Difference =  2.5775750966590683 %\n",
      "Number of neighbors =  16 Train accuracy =  0.7595419847328244 Test Accuracy =  0.7532467532467533 Difference =  0.629523148607114 %\n",
      "Number of neighbors =  17 Train accuracy =  0.7620865139949109 Test Accuracy =  0.7337662337662337 Difference =  2.8320280228677164 %\n",
      "Number of neighbors =  18 Train accuracy =  0.7659033078880407 Test Accuracy =  0.7402597402597403 Difference =  2.5643567628300445 %\n",
      "Number of neighbors =  19 Train accuracy =  0.7684478371501272 Test Accuracy =  0.7272727272727273 Difference =  4.117510987739992 %\n",
      "Number of neighbors =  20 Train accuracy =  0.767175572519084 Test Accuracy =  0.7597402597402597 Difference =  0.7435312778824255 %\n",
      "Number of neighbors =  21 Train accuracy =  0.767175572519084 Test Accuracy =  0.7597402597402597 Difference =  0.7435312778824255 %\n",
      "Number of neighbors =  22 Train accuracy =  0.7697201017811705 Test Accuracy =  0.7532467532467533 Difference =  1.6473348534417176 %\n",
      "Number of neighbors =  23 Train accuracy =  0.772264631043257 Test Accuracy =  0.7662337662337663 Difference =  0.6030864809490777 %\n",
      "Number of neighbors =  24 Train accuracy =  0.7684478371501272 Test Accuracy =  0.7662337662337663 Difference =  0.2214070916360944 %\n",
      "Number of neighbors =  25 Train accuracy =  0.767175572519084 Test Accuracy =  0.7597402597402597 Difference =  0.7435312778824255 %\n",
      "Number of neighbors =  26 Train accuracy =  0.7633587786259542 Test Accuracy =  0.7597402597402597 Difference =  0.3618518885694533 %\n",
      "Number of neighbors =  27 Train accuracy =  0.7582697201017812 Test Accuracy =  0.7532467532467533 Difference =  0.5022966855027899 %\n",
      "Number of neighbors =  28 Train accuracy =  0.7595419847328244 Test Accuracy =  0.7662337662337663 Difference =  0.6691781500941851 %\n",
      "Number of neighbors =  29 Train accuracy =  0.7595419847328244 Test Accuracy =  0.7597402597402597 Difference =  0.019827500743530013 %\n",
      "Number of neighbors =  30 Train accuracy =  0.7519083969465649 Test Accuracy =  0.7532467532467533 Difference =  0.13383563001884147 %\n",
      "Number of neighbors =  31 Train accuracy =  0.7506361323155216 Test Accuracy =  0.7467532467532467 Difference =  0.3882885562274896 %\n",
      "Number of neighbors =  32 Train accuracy =  0.7519083969465649 Test Accuracy =  0.7597402597402597 Difference =  0.7831862793694855 %\n",
      "Number of neighbors =  33 Train accuracy =  0.7480916030534351 Test Accuracy =  0.7597402597402597 Difference =  1.1648656686824577 %\n",
      "Number of neighbors =  34 Train accuracy =  0.7468193384223919 Test Accuracy =  0.7467532467532467 Difference =  0.006609166914517406 %\n",
      "Number of neighbors =  35 Train accuracy =  0.7430025445292621 Test Accuracy =  0.7467532467532467 Difference =  0.3750702223984659 %\n",
      "Number of neighbors =  36 Train accuracy =  0.7430025445292621 Test Accuracy =  0.7467532467532467 Difference =  0.3750702223984659 %\n",
      "Number of neighbors =  37 Train accuracy =  0.7417302798982188 Test Accuracy =  0.7272727272727273 Difference =  1.4457552625491532 %\n",
      "Number of neighbors =  38 Train accuracy =  0.7417302798982188 Test Accuracy =  0.7402597402597403 Difference =  0.14705396384785407 %\n",
      "Number of neighbors =  39 Train accuracy =  0.7353689567430025 Test Accuracy =  0.7337662337662337 Difference =  0.16027229767687778 %\n",
      "Number of neighbors =  40 Train accuracy =  0.732824427480916 Test Accuracy =  0.7337662337662337 Difference =  0.09418062853177034 %\n",
      "Number of neighbors =  41 Train accuracy =  0.7391857506361323 Test Accuracy =  0.7272727272727273 Difference =  1.191302336340505 %\n",
      "Number of neighbors =  42 Train accuracy =  0.7391857506361323 Test Accuracy =  0.7337662337662337 Difference =  0.5419516869898611 %\n",
      "Number of neighbors =  43 Train accuracy =  0.7417302798982188 Test Accuracy =  0.7337662337662337 Difference =  0.7964046131985092 %\n",
      "Number of neighbors =  44 Train accuracy =  0.7430025445292621 Test Accuracy =  0.7337662337662337 Difference =  0.9236310763028333 %\n",
      "Number of neighbors =  45 Train accuracy =  0.7404580152671756 Test Accuracy =  0.7207792207792207 Difference =  1.9678794487954843 %\n",
      "Number of neighbors =  46 Train accuracy =  0.7442748091603053 Test Accuracy =  0.7337662337662337 Difference =  1.0508575394071573 %\n",
      "Number of neighbors =  47 Train accuracy =  0.7404580152671756 Test Accuracy =  0.7272727272727273 Difference =  1.3185287994448291 %\n",
      "Number of neighbors =  48 Train accuracy =  0.7391857506361323 Test Accuracy =  0.7337662337662337 Difference =  0.5419516869898611 %\n",
      "Number of neighbors =  49 Train accuracy =  0.7391857506361323 Test Accuracy =  0.7142857142857143 Difference =  2.490003635041804 %\n",
      "Number of neighbors =  50 Train accuracy =  0.7417302798982188 Test Accuracy =  0.7207792207792207 Difference =  2.0951059118998083 %\n",
      "Number of neighbors =  51 Train accuracy =  0.7379134860050891 Test Accuracy =  0.7142857142857143 Difference =  2.36277717193748 %\n",
      "Number of neighbors =  52 Train accuracy =  0.7366412213740458 Test Accuracy =  0.7142857142857143 Difference =  2.235550708833145 %\n",
      "Number of neighbors =  53 Train accuracy =  0.7302798982188295 Test Accuracy =  0.7012987012987013 Difference =  2.898119692012824 %\n",
      "Number of neighbors =  54 Train accuracy =  0.7302798982188295 Test Accuracy =  0.7077922077922078 Difference =  2.24876904266218 %\n",
      "Number of neighbors =  55 Train accuracy =  0.7340966921119593 Test Accuracy =  0.7142857142857143 Difference =  1.9810977826244969 %\n",
      "Number of neighbors =  56 Train accuracy =  0.732824427480916 Test Accuracy =  0.7207792207792207 Difference =  1.2045206701695288 %\n",
      "Number of neighbors =  57 Train accuracy =  0.7315521628498728 Test Accuracy =  0.7272727272727273 Difference =  0.4279435577145496 %\n",
      "Number of neighbors =  58 Train accuracy =  0.7302798982188295 Test Accuracy =  0.7207792207792207 Difference =  0.9500677439608807 %\n",
      "Number of neighbors =  59 Train accuracy =  0.7315521628498728 Test Accuracy =  0.6948051948051948 Difference =  3.674696804467803 %\n",
      "Number of neighbors =  60 Train accuracy =  0.7353689567430025 Test Accuracy =  0.7142857142857143 Difference =  2.108324245728821 %\n",
      "Number of neighbors =  61 Train accuracy =  0.7290076335877863 Test Accuracy =  0.7142857142857143 Difference =  1.4721919302072006 %\n",
      "Number of neighbors =  62 Train accuracy =  0.7290076335877863 Test Accuracy =  0.7077922077922078 Difference =  2.1215425795578557 %\n",
      "Number of neighbors =  63 Train accuracy =  0.7251908396946565 Test Accuracy =  0.7142857142857143 Difference =  1.0905125408942173 %\n",
      "Number of neighbors =  64 Train accuracy =  0.7264631043256997 Test Accuracy =  0.7077922077922078 Difference =  1.8670896533491965 %\n",
      "Number of neighbors =  65 Train accuracy =  0.7251908396946565 Test Accuracy =  0.7077922077922078 Difference =  1.7398631902448725 %\n",
      "Number of neighbors =  66 Train accuracy =  0.7264631043256997 Test Accuracy =  0.7077922077922078 Difference =  1.8670896533491965 %\n",
      "Number of neighbors =  67 Train accuracy =  0.727735368956743 Test Accuracy =  0.7077922077922078 Difference =  1.9943161164535206 %\n",
      "Number of neighbors =  68 Train accuracy =  0.727735368956743 Test Accuracy =  0.7077922077922078 Difference =  1.9943161164535206 %\n",
      "Number of neighbors =  69 Train accuracy =  0.7264631043256997 Test Accuracy =  0.6948051948051948 Difference =  3.1657909520504957 %\n",
      "Number of neighbors =  70 Train accuracy =  0.7264631043256997 Test Accuracy =  0.7142857142857143 Difference =  1.2177390039985414 %\n",
      "Number of neighbors =  71 Train accuracy =  0.727735368956743 Test Accuracy =  0.7012987012987013 Difference =  2.6436667658041646 %\n",
      "Number of neighbors =  72 Train accuracy =  0.7201017811704835 Test Accuracy =  0.7142857142857143 Difference =  0.5816066884769211 %\n",
      "Number of neighbors =  73 Train accuracy =  0.72264631043257 Test Accuracy =  0.7012987012987013 Difference =  2.1347609133868684 %\n",
      "Number of neighbors =  74 Train accuracy =  0.72264631043257 Test Accuracy =  0.7077922077922078 Difference =  1.4854102640362243 %\n",
      "Number of neighbors =  75 Train accuracy =  0.7251908396946565 Test Accuracy =  0.7012987012987013 Difference =  2.3892138395955165 %\n",
      "Number of neighbors =  76 Train accuracy =  0.7251908396946565 Test Accuracy =  0.7142857142857143 Difference =  1.0905125408942173 %\n",
      "Number of neighbors =  77 Train accuracy =  0.727735368956743 Test Accuracy =  0.7012987012987013 Difference =  2.6436667658041646 %\n",
      "Number of neighbors =  78 Train accuracy =  0.727735368956743 Test Accuracy =  0.7077922077922078 Difference =  1.9943161164535206 %\n",
      "Number of neighbors =  79 Train accuracy =  0.7264631043256997 Test Accuracy =  0.7077922077922078 Difference =  1.8670896533491965 %\n",
      "Number of neighbors =  80 Train accuracy =  0.727735368956743 Test Accuracy =  0.7142857142857143 Difference =  1.3449654671028655 %\n",
      "Number of neighbors =  81 Train accuracy =  0.7264631043256997 Test Accuracy =  0.7077922077922078 Difference =  1.8670896533491965 %\n",
      "Number of neighbors =  82 Train accuracy =  0.7251908396946565 Test Accuracy =  0.7077922077922078 Difference =  1.7398631902448725 %\n",
      "Number of neighbors =  83 Train accuracy =  0.7264631043256997 Test Accuracy =  0.7077922077922078 Difference =  1.8670896533491965 %\n",
      "Number of neighbors =  84 Train accuracy =  0.72264631043257 Test Accuracy =  0.7142857142857143 Difference =  0.8360596146855692 %\n",
      "Number of neighbors =  85 Train accuracy =  0.72264631043257 Test Accuracy =  0.7142857142857143 Difference =  0.8360596146855692 %\n",
      "Number of neighbors =  86 Train accuracy =  0.7201017811704835 Test Accuracy =  0.7142857142857143 Difference =  0.5816066884769211 %\n",
      "Number of neighbors =  87 Train accuracy =  0.7213740458015268 Test Accuracy =  0.7142857142857143 Difference =  0.7088331515812452 %\n",
      "Number of neighbors =  88 Train accuracy =  0.7201017811704835 Test Accuracy =  0.7207792207792207 Difference =  0.06774396087372292 %\n",
      "Number of neighbors =  89 Train accuracy =  0.7213740458015268 Test Accuracy =  0.7142857142857143 Difference =  0.7088331515812452 %\n",
      "Number of neighbors =  90 Train accuracy =  0.7175572519083969 Test Accuracy =  0.7012987012987013 Difference =  1.625855060969561 %\n",
      "Number of neighbors =  91 Train accuracy =  0.72264631043257 Test Accuracy =  0.7077922077922078 Difference =  1.4854102640362243 %\n",
      "Number of neighbors =  92 Train accuracy =  0.72264631043257 Test Accuracy =  0.7012987012987013 Difference =  2.1347609133868684 %\n",
      "Number of neighbors =  93 Train accuracy =  0.7213740458015268 Test Accuracy =  0.7142857142857143 Difference =  0.7088331515812452 %\n",
      "Number of neighbors =  94 Train accuracy =  0.72264631043257 Test Accuracy =  0.7142857142857143 Difference =  0.8360596146855692 %\n",
      "Number of neighbors =  95 Train accuracy =  0.7201017811704835 Test Accuracy =  0.7207792207792207 Difference =  0.06774396087372292 %\n",
      "Number of neighbors =  96 Train accuracy =  0.7188295165394402 Test Accuracy =  0.7077922077922078 Difference =  1.103730874723241 %\n",
      "Number of neighbors =  97 Train accuracy =  0.7213740458015268 Test Accuracy =  0.7077922077922078 Difference =  1.3581838009319003 %\n",
      "Number of neighbors =  98 Train accuracy =  0.7213740458015268 Test Accuracy =  0.7077922077922078 Difference =  1.3581838009319003 %\n",
      "Number of neighbors =  99 Train accuracy =  0.7201017811704835 Test Accuracy =  0.7077922077922078 Difference =  1.2309573378275762 %\n"
     ]
    }
   ],
   "source": [
    "for x in k:\n",
    "    print('Number of neighbors = ', x, \"Train accuracy = \", train_acc[x-1], \"Test Accuracy = \", test_acc[x-1], \"Difference = \",\n",
    "         (abs(train_acc[x-1] - test_acc[x-1])*100), \"%\")"
   ]
  },
  {
   "cell_type": "code",
   "execution_count": 74,
   "id": "a3ac9c52-34a7-4804-89da-2b17651055c9",
   "metadata": {},
   "outputs": [
    {
     "name": "stdout",
     "output_type": "stream",
     "text": [
      "Fitting 10 folds for each of 6 candidates, totalling 60 fits\n"
     ]
    },
    {
     "data": {
      "text/html": [
       "<style>#sk-container-id-6 {color: black;background-color: white;}#sk-container-id-6 pre{padding: 0;}#sk-container-id-6 div.sk-toggleable {background-color: white;}#sk-container-id-6 label.sk-toggleable__label {cursor: pointer;display: block;width: 100%;margin-bottom: 0;padding: 0.3em;box-sizing: border-box;text-align: center;}#sk-container-id-6 label.sk-toggleable__label-arrow:before {content: \"▸\";float: left;margin-right: 0.25em;color: #696969;}#sk-container-id-6 label.sk-toggleable__label-arrow:hover:before {color: black;}#sk-container-id-6 div.sk-estimator:hover label.sk-toggleable__label-arrow:before {color: black;}#sk-container-id-6 div.sk-toggleable__content {max-height: 0;max-width: 0;overflow: hidden;text-align: left;background-color: #f0f8ff;}#sk-container-id-6 div.sk-toggleable__content pre {margin: 0.2em;color: black;border-radius: 0.25em;background-color: #f0f8ff;}#sk-container-id-6 input.sk-toggleable__control:checked~div.sk-toggleable__content {max-height: 200px;max-width: 100%;overflow: auto;}#sk-container-id-6 input.sk-toggleable__control:checked~label.sk-toggleable__label-arrow:before {content: \"▾\";}#sk-container-id-6 div.sk-estimator input.sk-toggleable__control:checked~label.sk-toggleable__label {background-color: #d4ebff;}#sk-container-id-6 div.sk-label input.sk-toggleable__control:checked~label.sk-toggleable__label {background-color: #d4ebff;}#sk-container-id-6 input.sk-hidden--visually {border: 0;clip: rect(1px 1px 1px 1px);clip: rect(1px, 1px, 1px, 1px);height: 1px;margin: -1px;overflow: hidden;padding: 0;position: absolute;width: 1px;}#sk-container-id-6 div.sk-estimator {font-family: monospace;background-color: #f0f8ff;border: 1px dotted black;border-radius: 0.25em;box-sizing: border-box;margin-bottom: 0.5em;}#sk-container-id-6 div.sk-estimator:hover {background-color: #d4ebff;}#sk-container-id-6 div.sk-parallel-item::after {content: \"\";width: 100%;border-bottom: 1px solid gray;flex-grow: 1;}#sk-container-id-6 div.sk-label:hover label.sk-toggleable__label {background-color: #d4ebff;}#sk-container-id-6 div.sk-serial::before {content: \"\";position: absolute;border-left: 1px solid gray;box-sizing: border-box;top: 0;bottom: 0;left: 50%;z-index: 0;}#sk-container-id-6 div.sk-serial {display: flex;flex-direction: column;align-items: center;background-color: white;padding-right: 0.2em;padding-left: 0.2em;position: relative;}#sk-container-id-6 div.sk-item {position: relative;z-index: 1;}#sk-container-id-6 div.sk-parallel {display: flex;align-items: stretch;justify-content: center;background-color: white;position: relative;}#sk-container-id-6 div.sk-item::before, #sk-container-id-6 div.sk-parallel-item::before {content: \"\";position: absolute;border-left: 1px solid gray;box-sizing: border-box;top: 0;bottom: 0;left: 50%;z-index: -1;}#sk-container-id-6 div.sk-parallel-item {display: flex;flex-direction: column;z-index: 1;position: relative;background-color: white;}#sk-container-id-6 div.sk-parallel-item:first-child::after {align-self: flex-end;width: 50%;}#sk-container-id-6 div.sk-parallel-item:last-child::after {align-self: flex-start;width: 50%;}#sk-container-id-6 div.sk-parallel-item:only-child::after {width: 0;}#sk-container-id-6 div.sk-dashed-wrapped {border: 1px dashed gray;margin: 0 0.4em 0.5em 0.4em;box-sizing: border-box;padding-bottom: 0.4em;background-color: white;}#sk-container-id-6 div.sk-label label {font-family: monospace;font-weight: bold;display: inline-block;line-height: 1.2em;}#sk-container-id-6 div.sk-label-container {text-align: center;}#sk-container-id-6 div.sk-container {/* jupyter's `normalize.less` sets `[hidden] { display: none; }` but bootstrap.min.css set `[hidden] { display: none !important; }` so we also need the `!important` here to be able to override the default hidden behavior on the sphinx rendered scikit-learn.org. See: https://github.com/scikit-learn/scikit-learn/issues/21755 */display: inline-block !important;position: relative;}#sk-container-id-6 div.sk-text-repr-fallback {display: none;}</style><div id=\"sk-container-id-6\" class=\"sk-top-container\"><div class=\"sk-text-repr-fallback\"><pre>GridSearchCV(cv=10, estimator=KNeighborsClassifier(), n_jobs=-1,\n",
       "             param_grid={&#x27;metric&#x27;: [&#x27;minkowski&#x27;, &#x27;euclidean&#x27;, &#x27;manhattan&#x27;],\n",
       "                         &#x27;n_neighbors&#x27;: [36],\n",
       "                         &#x27;weights&#x27;: [&#x27;uniform&#x27;, &#x27;distance&#x27;]},\n",
       "             scoring=&#x27;accuracy&#x27;, verbose=1)</pre><b>In a Jupyter environment, please rerun this cell to show the HTML representation or trust the notebook. <br />On GitHub, the HTML representation is unable to render, please try loading this page with nbviewer.org.</b></div><div class=\"sk-container\" hidden><div class=\"sk-item sk-dashed-wrapped\"><div class=\"sk-label-container\"><div class=\"sk-label sk-toggleable\"><input class=\"sk-toggleable__control sk-hidden--visually\" id=\"sk-estimator-id-12\" type=\"checkbox\" ><label for=\"sk-estimator-id-12\" class=\"sk-toggleable__label sk-toggleable__label-arrow\">GridSearchCV</label><div class=\"sk-toggleable__content\"><pre>GridSearchCV(cv=10, estimator=KNeighborsClassifier(), n_jobs=-1,\n",
       "             param_grid={&#x27;metric&#x27;: [&#x27;minkowski&#x27;, &#x27;euclidean&#x27;, &#x27;manhattan&#x27;],\n",
       "                         &#x27;n_neighbors&#x27;: [36],\n",
       "                         &#x27;weights&#x27;: [&#x27;uniform&#x27;, &#x27;distance&#x27;]},\n",
       "             scoring=&#x27;accuracy&#x27;, verbose=1)</pre></div></div></div><div class=\"sk-parallel\"><div class=\"sk-parallel-item\"><div class=\"sk-item\"><div class=\"sk-label-container\"><div class=\"sk-label sk-toggleable\"><input class=\"sk-toggleable__control sk-hidden--visually\" id=\"sk-estimator-id-13\" type=\"checkbox\" ><label for=\"sk-estimator-id-13\" class=\"sk-toggleable__label sk-toggleable__label-arrow\">estimator: KNeighborsClassifier</label><div class=\"sk-toggleable__content\"><pre>KNeighborsClassifier()</pre></div></div></div><div class=\"sk-serial\"><div class=\"sk-item\"><div class=\"sk-estimator sk-toggleable\"><input class=\"sk-toggleable__control sk-hidden--visually\" id=\"sk-estimator-id-14\" type=\"checkbox\" ><label for=\"sk-estimator-id-14\" class=\"sk-toggleable__label sk-toggleable__label-arrow\">KNeighborsClassifier</label><div class=\"sk-toggleable__content\"><pre>KNeighborsClassifier()</pre></div></div></div></div></div></div></div></div></div></div>"
      ],
      "text/plain": [
       "GridSearchCV(cv=10, estimator=KNeighborsClassifier(), n_jobs=-1,\n",
       "             param_grid={'metric': ['minkowski', 'euclidean', 'manhattan'],\n",
       "                         'n_neighbors': [36],\n",
       "                         'weights': ['uniform', 'distance']},\n",
       "             scoring='accuracy', verbose=1)"
      ]
     },
     "execution_count": 74,
     "metadata": {},
     "output_type": "execute_result"
    }
   ],
   "source": [
    "knn = KNeighborsClassifier()\n",
    "from sklearn.model_selection import GridSearchCV\n",
    "\n",
    "grid_params = { 'n_neighbors' : [36],\n",
    "               'weights' : ['uniform','distance'],\n",
    "               'metric' : ['minkowski','euclidean','manhattan']}\n",
    "\n",
    "knn_grid = GridSearchCV(\n",
    "    KNeighborsClassifier(),\n",
    "    grid_params,\n",
    "    verbose  = 1,\n",
    "    cv = 10,\n",
    "    return_train_score=False,\n",
    "    scoring= 'accuracy',\n",
    "    n_jobs = -1\n",
    "    )\n",
    "    \n",
    "knn_grid.fit(X_smote, y_smote)\n",
    "    "
   ]
  },
  {
   "cell_type": "code",
   "execution_count": 75,
   "id": "12c3542f-91d1-41c2-b137-fdb5021ca0ee",
   "metadata": {},
   "outputs": [
    {
     "data": {
      "text/html": [
       "<style>#sk-container-id-7 {color: black;background-color: white;}#sk-container-id-7 pre{padding: 0;}#sk-container-id-7 div.sk-toggleable {background-color: white;}#sk-container-id-7 label.sk-toggleable__label {cursor: pointer;display: block;width: 100%;margin-bottom: 0;padding: 0.3em;box-sizing: border-box;text-align: center;}#sk-container-id-7 label.sk-toggleable__label-arrow:before {content: \"▸\";float: left;margin-right: 0.25em;color: #696969;}#sk-container-id-7 label.sk-toggleable__label-arrow:hover:before {color: black;}#sk-container-id-7 div.sk-estimator:hover label.sk-toggleable__label-arrow:before {color: black;}#sk-container-id-7 div.sk-toggleable__content {max-height: 0;max-width: 0;overflow: hidden;text-align: left;background-color: #f0f8ff;}#sk-container-id-7 div.sk-toggleable__content pre {margin: 0.2em;color: black;border-radius: 0.25em;background-color: #f0f8ff;}#sk-container-id-7 input.sk-toggleable__control:checked~div.sk-toggleable__content {max-height: 200px;max-width: 100%;overflow: auto;}#sk-container-id-7 input.sk-toggleable__control:checked~label.sk-toggleable__label-arrow:before {content: \"▾\";}#sk-container-id-7 div.sk-estimator input.sk-toggleable__control:checked~label.sk-toggleable__label {background-color: #d4ebff;}#sk-container-id-7 div.sk-label input.sk-toggleable__control:checked~label.sk-toggleable__label {background-color: #d4ebff;}#sk-container-id-7 input.sk-hidden--visually {border: 0;clip: rect(1px 1px 1px 1px);clip: rect(1px, 1px, 1px, 1px);height: 1px;margin: -1px;overflow: hidden;padding: 0;position: absolute;width: 1px;}#sk-container-id-7 div.sk-estimator {font-family: monospace;background-color: #f0f8ff;border: 1px dotted black;border-radius: 0.25em;box-sizing: border-box;margin-bottom: 0.5em;}#sk-container-id-7 div.sk-estimator:hover {background-color: #d4ebff;}#sk-container-id-7 div.sk-parallel-item::after {content: \"\";width: 100%;border-bottom: 1px solid gray;flex-grow: 1;}#sk-container-id-7 div.sk-label:hover label.sk-toggleable__label {background-color: #d4ebff;}#sk-container-id-7 div.sk-serial::before {content: \"\";position: absolute;border-left: 1px solid gray;box-sizing: border-box;top: 0;bottom: 0;left: 50%;z-index: 0;}#sk-container-id-7 div.sk-serial {display: flex;flex-direction: column;align-items: center;background-color: white;padding-right: 0.2em;padding-left: 0.2em;position: relative;}#sk-container-id-7 div.sk-item {position: relative;z-index: 1;}#sk-container-id-7 div.sk-parallel {display: flex;align-items: stretch;justify-content: center;background-color: white;position: relative;}#sk-container-id-7 div.sk-item::before, #sk-container-id-7 div.sk-parallel-item::before {content: \"\";position: absolute;border-left: 1px solid gray;box-sizing: border-box;top: 0;bottom: 0;left: 50%;z-index: -1;}#sk-container-id-7 div.sk-parallel-item {display: flex;flex-direction: column;z-index: 1;position: relative;background-color: white;}#sk-container-id-7 div.sk-parallel-item:first-child::after {align-self: flex-end;width: 50%;}#sk-container-id-7 div.sk-parallel-item:last-child::after {align-self: flex-start;width: 50%;}#sk-container-id-7 div.sk-parallel-item:only-child::after {width: 0;}#sk-container-id-7 div.sk-dashed-wrapped {border: 1px dashed gray;margin: 0 0.4em 0.5em 0.4em;box-sizing: border-box;padding-bottom: 0.4em;background-color: white;}#sk-container-id-7 div.sk-label label {font-family: monospace;font-weight: bold;display: inline-block;line-height: 1.2em;}#sk-container-id-7 div.sk-label-container {text-align: center;}#sk-container-id-7 div.sk-container {/* jupyter's `normalize.less` sets `[hidden] { display: none; }` but bootstrap.min.css set `[hidden] { display: none !important; }` so we also need the `!important` here to be able to override the default hidden behavior on the sphinx rendered scikit-learn.org. See: https://github.com/scikit-learn/scikit-learn/issues/21755 */display: inline-block !important;position: relative;}#sk-container-id-7 div.sk-text-repr-fallback {display: none;}</style><div id=\"sk-container-id-7\" class=\"sk-top-container\"><div class=\"sk-text-repr-fallback\"><pre>KNeighborsClassifier(metric=&#x27;manhattan&#x27;, n_neighbors=36, weights=&#x27;distance&#x27;)</pre><b>In a Jupyter environment, please rerun this cell to show the HTML representation or trust the notebook. <br />On GitHub, the HTML representation is unable to render, please try loading this page with nbviewer.org.</b></div><div class=\"sk-container\" hidden><div class=\"sk-item\"><div class=\"sk-estimator sk-toggleable\"><input class=\"sk-toggleable__control sk-hidden--visually\" id=\"sk-estimator-id-15\" type=\"checkbox\" checked><label for=\"sk-estimator-id-15\" class=\"sk-toggleable__label sk-toggleable__label-arrow\">KNeighborsClassifier</label><div class=\"sk-toggleable__content\"><pre>KNeighborsClassifier(metric=&#x27;manhattan&#x27;, n_neighbors=36, weights=&#x27;distance&#x27;)</pre></div></div></div></div></div>"
      ],
      "text/plain": [
       "KNeighborsClassifier(metric='manhattan', n_neighbors=36, weights='distance')"
      ]
     },
     "execution_count": 75,
     "metadata": {},
     "output_type": "execute_result"
    }
   ],
   "source": [
    "knn_grid.best_estimator_"
   ]
  },
  {
   "cell_type": "code",
   "execution_count": 76,
   "id": "8d163aa6-6167-44a0-bcd4-16dd60c6d35e",
   "metadata": {},
   "outputs": [],
   "source": [
    "knn_bestgrid=knn_grid.best_estimator_"
   ]
  },
  {
   "cell_type": "code",
   "execution_count": 77,
   "id": "ff1c2b00-e69c-4765-b4f0-140999fa1922",
   "metadata": {},
   "outputs": [
    {
     "data": {
      "text/html": [
       "<style>#sk-container-id-8 {color: black;background-color: white;}#sk-container-id-8 pre{padding: 0;}#sk-container-id-8 div.sk-toggleable {background-color: white;}#sk-container-id-8 label.sk-toggleable__label {cursor: pointer;display: block;width: 100%;margin-bottom: 0;padding: 0.3em;box-sizing: border-box;text-align: center;}#sk-container-id-8 label.sk-toggleable__label-arrow:before {content: \"▸\";float: left;margin-right: 0.25em;color: #696969;}#sk-container-id-8 label.sk-toggleable__label-arrow:hover:before {color: black;}#sk-container-id-8 div.sk-estimator:hover label.sk-toggleable__label-arrow:before {color: black;}#sk-container-id-8 div.sk-toggleable__content {max-height: 0;max-width: 0;overflow: hidden;text-align: left;background-color: #f0f8ff;}#sk-container-id-8 div.sk-toggleable__content pre {margin: 0.2em;color: black;border-radius: 0.25em;background-color: #f0f8ff;}#sk-container-id-8 input.sk-toggleable__control:checked~div.sk-toggleable__content {max-height: 200px;max-width: 100%;overflow: auto;}#sk-container-id-8 input.sk-toggleable__control:checked~label.sk-toggleable__label-arrow:before {content: \"▾\";}#sk-container-id-8 div.sk-estimator input.sk-toggleable__control:checked~label.sk-toggleable__label {background-color: #d4ebff;}#sk-container-id-8 div.sk-label input.sk-toggleable__control:checked~label.sk-toggleable__label {background-color: #d4ebff;}#sk-container-id-8 input.sk-hidden--visually {border: 0;clip: rect(1px 1px 1px 1px);clip: rect(1px, 1px, 1px, 1px);height: 1px;margin: -1px;overflow: hidden;padding: 0;position: absolute;width: 1px;}#sk-container-id-8 div.sk-estimator {font-family: monospace;background-color: #f0f8ff;border: 1px dotted black;border-radius: 0.25em;box-sizing: border-box;margin-bottom: 0.5em;}#sk-container-id-8 div.sk-estimator:hover {background-color: #d4ebff;}#sk-container-id-8 div.sk-parallel-item::after {content: \"\";width: 100%;border-bottom: 1px solid gray;flex-grow: 1;}#sk-container-id-8 div.sk-label:hover label.sk-toggleable__label {background-color: #d4ebff;}#sk-container-id-8 div.sk-serial::before {content: \"\";position: absolute;border-left: 1px solid gray;box-sizing: border-box;top: 0;bottom: 0;left: 50%;z-index: 0;}#sk-container-id-8 div.sk-serial {display: flex;flex-direction: column;align-items: center;background-color: white;padding-right: 0.2em;padding-left: 0.2em;position: relative;}#sk-container-id-8 div.sk-item {position: relative;z-index: 1;}#sk-container-id-8 div.sk-parallel {display: flex;align-items: stretch;justify-content: center;background-color: white;position: relative;}#sk-container-id-8 div.sk-item::before, #sk-container-id-8 div.sk-parallel-item::before {content: \"\";position: absolute;border-left: 1px solid gray;box-sizing: border-box;top: 0;bottom: 0;left: 50%;z-index: -1;}#sk-container-id-8 div.sk-parallel-item {display: flex;flex-direction: column;z-index: 1;position: relative;background-color: white;}#sk-container-id-8 div.sk-parallel-item:first-child::after {align-self: flex-end;width: 50%;}#sk-container-id-8 div.sk-parallel-item:last-child::after {align-self: flex-start;width: 50%;}#sk-container-id-8 div.sk-parallel-item:only-child::after {width: 0;}#sk-container-id-8 div.sk-dashed-wrapped {border: 1px dashed gray;margin: 0 0.4em 0.5em 0.4em;box-sizing: border-box;padding-bottom: 0.4em;background-color: white;}#sk-container-id-8 div.sk-label label {font-family: monospace;font-weight: bold;display: inline-block;line-height: 1.2em;}#sk-container-id-8 div.sk-label-container {text-align: center;}#sk-container-id-8 div.sk-container {/* jupyter's `normalize.less` sets `[hidden] { display: none; }` but bootstrap.min.css set `[hidden] { display: none !important; }` so we also need the `!important` here to be able to override the default hidden behavior on the sphinx rendered scikit-learn.org. See: https://github.com/scikit-learn/scikit-learn/issues/21755 */display: inline-block !important;position: relative;}#sk-container-id-8 div.sk-text-repr-fallback {display: none;}</style><div id=\"sk-container-id-8\" class=\"sk-top-container\"><div class=\"sk-text-repr-fallback\"><pre>KNeighborsClassifier(metric=&#x27;manhattan&#x27;, n_neighbors=36, weights=&#x27;distance&#x27;)</pre><b>In a Jupyter environment, please rerun this cell to show the HTML representation or trust the notebook. <br />On GitHub, the HTML representation is unable to render, please try loading this page with nbviewer.org.</b></div><div class=\"sk-container\" hidden><div class=\"sk-item\"><div class=\"sk-estimator sk-toggleable\"><input class=\"sk-toggleable__control sk-hidden--visually\" id=\"sk-estimator-id-16\" type=\"checkbox\" checked><label for=\"sk-estimator-id-16\" class=\"sk-toggleable__label sk-toggleable__label-arrow\">KNeighborsClassifier</label><div class=\"sk-toggleable__content\"><pre>KNeighborsClassifier(metric=&#x27;manhattan&#x27;, n_neighbors=36, weights=&#x27;distance&#x27;)</pre></div></div></div></div></div>"
      ],
      "text/plain": [
       "KNeighborsClassifier(metric='manhattan', n_neighbors=36, weights='distance')"
      ]
     },
     "execution_count": 77,
     "metadata": {},
     "output_type": "execute_result"
    }
   ],
   "source": [
    "knn_bestgrid"
   ]
  },
  {
   "cell_type": "code",
   "execution_count": 78,
   "id": "7c1cc8ed-862a-4b74-be63-d6b54c3cc748",
   "metadata": {},
   "outputs": [
    {
     "name": "stdout",
     "output_type": "stream",
     "text": [
      "[[77 30]\n",
      " [ 9 38]]\n",
      "Accuracy Score 0.7467532467532467\n",
      "              precision    recall  f1-score   support\n",
      "\n",
      "           0       0.90      0.72      0.80       107\n",
      "           1       0.56      0.81      0.66        47\n",
      "\n",
      "    accuracy                           0.75       154\n",
      "   macro avg       0.73      0.76      0.73       154\n",
      "weighted avg       0.79      0.75      0.76       154\n",
      "\n"
     ]
    }
   ],
   "source": [
    "y_pred=knn_bestgrid.predict(X_test)\n",
    "print(confusion_matrix(y_test,y_pred))\n",
    "print(\"Accuracy Score {}\".format(accuracy_score(y_test,y_pred)))\n",
    "print(classification_report(y_test,y_pred))"
   ]
  },
  {
   "cell_type": "code",
   "execution_count": 79,
   "id": "22e43cea-949f-43e5-a3eb-ea5b60598653",
   "metadata": {},
   "outputs": [
    {
     "name": "stdout",
     "output_type": "stream",
     "text": [
      "Results =  0.7526865291571173 +/- 0.03207268507717209\n"
     ]
    }
   ],
   "source": [
    "skfold = StratifiedKFold(n_splits=5)\n",
    "\n",
    "cv_score = cross_val_score(knn_bestgrid,X,Y,cv=skfold)\n",
    "results=cv_score\n",
    "print(\"Results = \", np.mean(results),\"+/-\",np.std(results))"
   ]
  },
  {
   "cell_type": "code",
   "execution_count": null,
   "id": "a1717936-bae4-4e63-9034-7ebe7e8206b8",
   "metadata": {},
   "outputs": [],
   "source": []
  },
  {
   "cell_type": "code",
   "execution_count": null,
   "id": "9376455f-3bb6-4608-9a47-689f632e63c5",
   "metadata": {},
   "outputs": [],
   "source": []
  },
  {
   "cell_type": "code",
   "execution_count": null,
   "id": "43374a55-8e80-46ad-9e4a-4d3ba9ea8afd",
   "metadata": {},
   "outputs": [],
   "source": []
  }
 ],
 "metadata": {
  "kernelspec": {
   "display_name": "Python 3 (ipykernel)",
   "language": "python",
   "name": "python3"
  },
  "language_info": {
   "codemirror_mode": {
    "name": "ipython",
    "version": 3
   },
   "file_extension": ".py",
   "mimetype": "text/x-python",
   "name": "python",
   "nbconvert_exporter": "python",
   "pygments_lexer": "ipython3",
   "version": "3.11.7"
  }
 },
 "nbformat": 4,
 "nbformat_minor": 5
}
